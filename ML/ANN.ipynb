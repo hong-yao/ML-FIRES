{
 "cells": [
  {
   "cell_type": "markdown",
   "metadata": {},
   "source": [
    "# NEURAL NETWORK（regress ahead, then classify）"
   ]
  },
  {
   "cell_type": "markdown",
   "metadata": {},
   "source": [
    "## Import necessary packages"
   ]
  },
  {
   "cell_type": "code",
   "execution_count": 1,
   "metadata": {},
   "outputs": [
    {
     "name": "stderr",
     "output_type": "stream",
     "text": [
      "[NbConvertApp] Converting notebook d2lzh_pytorch.ipynb to python\n",
      "[NbConvertApp] Writing 47013 bytes to d2lzh_pytorch.py\n"
     ]
    },
    {
     "name": "stdout",
     "output_type": "stream",
     "text": [
      "1.4.0+cpu\n"
     ]
    }
   ],
   "source": [
    "%matplotlib inline\n",
    "import numpy as np\n",
    "import pandas as pd\n",
    "import torch.nn as nn\n",
    "import torch.nn.functional as F\n",
    "import matplotlib.pyplot as plt\n",
    "import torch as t\n",
    "import torch\n",
    "import sys\n",
    "import d2lzh_pytorch as d2l\n",
    "from sklearn import metrics\n",
    "from torch.autograd import Variable\n",
    "from sklearn.model_selection import train_test_split\n",
    "import torch.optim as optim\n",
    "print(torch.__version__)\n",
    "torch.set_default_tensor_type(torch.FloatTensor)\n",
    "from sklearn.metrics import explained_variance_score\n",
    "from sklearn.metrics import mean_absolute_error\n",
    "from sklearn.metrics import mean_squared_error\n",
    "from sklearn.metrics import r2_score"
   ]
  },
  {
   "cell_type": "markdown",
   "metadata": {},
   "source": [
    "## Import data and split trains set and test sets"
   ]
  },
  {
   "cell_type": "code",
   "execution_count": 2,
   "metadata": {},
   "outputs": [],
   "source": [
    "data = pd.read_csv(r\"C:\\Users\\DELL\\Desktop\\Fire_Data\\val_cross.csv\"\n",
    "                   ,index_col = 0\n",
    "                  )\n",
    "data.head()\n",
    "##The nest two raws code will used when solve classify question\n",
    "#data[\"BackDistance\"]=(data[\"BackDistance\"]>= 15).astype(\"int\")\n",
    "#data[\"BackDistance\"]\n",
    "type(data)\n",
    "X = data.iloc[:,data.columns != \"BackDistance\"]\n",
    "y = data.iloc[:,data.columns == \"BackDistance\"]\n",
    "X.shape, y.shape\n",
    "(y == 0).sum()\n",
    "Xtrain, Xtest, Ytrain, Ytest = train_test_split(X,y,test_size=0.3,random_state=25)\n",
    "Xtrain.head()\n",
    "[Xtrain, Xtest, Ytrain, Ytest]\n",
    "for i in [Xtrain, Xtest, Ytrain, Ytest]:\n",
    "    i.index = range(i.shape[0])\n",
    "Ytrain.head()\n",
    "yy = Ytest\n",
    "a = pd.concat([Xtest,Ytest],axis = 1)\n",
    "a = a.sort_values('BackDistance').reset_index(drop = True)\n",
    "Xtest = a.iloc[:,data.columns != \"BackDistance\"]\n",
    "Ytest = a.iloc[:,data.columns == \"BackDistance\"]"
   ]
  },
  {
   "cell_type": "code",
   "execution_count": 3,
   "metadata": {},
   "outputs": [],
   "source": [
    "from sklearn.preprocessing import StandardScaler\n",
    "#Standardscalar for X data\n",
    "scalar = StandardScaler()\n",
    "scalar.fit(Xtrain)\n",
    "Xtrain = scalar.transform(Xtrain)\n",
    "Xtest = scalar.transform(Xtest)\n",
    "p1 = [scalar.mean_,scalar.var_]\n",
    "Ytrain = Ytrain.values\n",
    "Ytest = Ytest.values"
   ]
  },
  {
   "cell_type": "code",
   "execution_count": 4,
   "metadata": {},
   "outputs": [
    {
     "data": {
      "text/plain": [
       "(200, 1)"
      ]
     },
     "execution_count": 4,
     "metadata": {},
     "output_type": "execute_result"
    }
   ],
   "source": [
    "Ytest.shape"
   ]
  },
  {
   "cell_type": "markdown",
   "metadata": {},
   "source": [
    "## Define network struction"
   ]
  },
  {
   "cell_type": "code",
   "execution_count": 18,
   "metadata": {},
   "outputs": [],
   "source": [
    "input_size = Xtrain.shape[1]\n",
    "hidden1_size = 10\n",
    "hidden2_size = 8\n",
    "hidden3_size = 6\n",
    "output_size = 1\n",
    "batch_size = 16\n",
    "\n",
    "neu = torch.nn.Sequential(\n",
    "    torch.nn.Linear(input_size, hidden1_size),\n",
    "    torch.nn.Sigmoid(),\n",
    "    torch.nn.Linear(hidden1_size,hidden2_size),\n",
    "    torch.nn.Sigmoid(),\n",
    "    torch.nn.Linear(hidden2_size,hidden3_size),\n",
    "    torch.nn.Sigmoid(),\n",
    "    torch.nn.Linear(hidden3_size,output_size)\n",
    ")\n",
    "cost = torch.nn.MSELoss()\n",
    "optimizer = torch.optim.SGD(neu.parameters(), lr = 0.01)"
   ]
  },
  {
   "cell_type": "markdown",
   "metadata": {},
   "source": [
    "## Train network"
   ]
  },
  {
   "cell_type": "code",
   "execution_count": 19,
   "metadata": {},
   "outputs": [
    {
     "name": "stdout",
     "output_type": "stream",
     "text": [
      "0 102.29017\n",
      "100 0.6402451\n",
      "200 0.54853386\n",
      "300 0.53157574\n",
      "400 0.5234453\n",
      "500 0.5179805\n",
      "600 0.51371914\n",
      "700 0.5099432\n",
      "800 0.5064663\n",
      "900 0.50336754\n"
     ]
    },
    {
     "data": {
      "text/plain": [
       "Text(0,0.5,'MSE')"
      ]
     },
     "execution_count": 19,
     "metadata": {},
     "output_type": "execute_result"
    },
    {
     "data": {
      "image/png": "[encoded data removed]",
      "text/plain": [
       "<Figure size 432x288 with 1 Axes>"
      ]
     },
     "metadata": {
      "needs_background": "light"
     },
     "output_type": "display_data"
    }
   ],
   "source": [
    "losses = []\n",
    "for i in range(1000):\n",
    "    # batch_size:feed batch\n",
    "    batch_loss = []\n",
    "    # start and end is the start and the end for the index of batch\n",
    "    for start in range(0, len(Xtrain), batch_size):\n",
    "        end = start + batch_size if start + batch_size < len(Xtrain) else len(Xtrain)\n",
    "        xx = Variable(torch.FloatTensor(Xtrain[start:end]))\n",
    "        yy = Variable(torch.FloatTensor(Ytrain[start:end]))\n",
    "        predict = neu(xx)\n",
    "        loss = cost(predict, yy)\n",
    "        optimizer.zero_grad()\n",
    "        loss.backward()\n",
    "        optimizer.step()\n",
    "        batch_loss.append(loss.data.numpy())\n",
    "    \n",
    "    # print the loss per 100\n",
    "    if i % 100==0:\n",
    "        losses.append(np.mean(batch_loss))\n",
    "        print(i, np.mean(batch_loss))\n",
    "\n",
    "# print the output\n",
    "plt.plot(np.arange(len(losses))*100,losses)\n",
    "plt.xlabel('epoch')\n",
    "plt.ylabel('MSE')"
   ]
  },
  {
   "cell_type": "code",
   "execution_count": 4,
   "metadata": {},
   "outputs": [
    {
     "ename": "NameError",
     "evalue": "name 'neu' is not defined",
     "output_type": "error",
     "traceback": [
      "\u001b[1;31m---------------------------------------------------------------------------\u001b[0m",
      "\u001b[1;31mNameError\u001b[0m                                 Traceback (most recent call last)",
      "\u001b[1;32m<ipython-input-4-825a58170a8e>\u001b[0m in \u001b[0;36m<module>\u001b[1;34m()\u001b[0m\n\u001b[0;32m      7\u001b[0m \u001b[1;31m# 将属性和预测变量包裹在Variable型变量中\u001b[0m\u001b[1;33m\u001b[0m\u001b[1;33m\u001b[0m\u001b[0m\n\u001b[0;32m      8\u001b[0m \u001b[0mxxx\u001b[0m \u001b[1;33m=\u001b[0m \u001b[0mVariable\u001b[0m\u001b[1;33m(\u001b[0m\u001b[0mtorch\u001b[0m\u001b[1;33m.\u001b[0m\u001b[0mFloatTensor\u001b[0m\u001b[1;33m(\u001b[0m\u001b[0mXtest\u001b[0m\u001b[1;33m)\u001b[0m\u001b[1;33m)\u001b[0m\u001b[1;33m\u001b[0m\u001b[0m\n\u001b[1;32m----> 9\u001b[1;33m \u001b[0mpredict\u001b[0m \u001b[1;33m=\u001b[0m \u001b[0mneu\u001b[0m\u001b[1;33m(\u001b[0m\u001b[0mxxx\u001b[0m\u001b[1;33m)\u001b[0m\u001b[1;33m\u001b[0m\u001b[0m\n\u001b[0m\u001b[0;32m     10\u001b[0m \u001b[1;31m#yyy = Variable(torch.FloatTensor(Ytest))\u001b[0m\u001b[1;33m\u001b[0m\u001b[1;33m\u001b[0m\u001b[0m\n\u001b[0;32m     11\u001b[0m \u001b[1;33m\u001b[0m\u001b[0m\n",
      "\u001b[1;31mNameError\u001b[0m: name 'neu' is not defined"
     ]
    }
   ],
   "source": [
    "# 用训练好的神经网络在测试集上进行预测\n",
    "\n",
    "# targets = test_targets['cnt'] #读取测试集的cnt数值\n",
    "# targets = targets.values.reshape([len(targets),1]) #将数据转换成合适的tensor形式\n",
    "# targets = targets.astype(float) #保证数据为实数\n",
    "\n",
    "# 将属性和预测变量包裹在Variable型变量中\n",
    "xxx = Variable(torch.FloatTensor(Xtest))\n",
    "predict = neu(xxx)\n",
    "#yyy = Variable(torch.FloatTensor(Ytest))\n",
    "\n",
    "predict = predict.data.numpy()\n",
    "#yyy = Ytest.values\n",
    "\n",
    "fig, ax = plt.subplots(figsize = (10, 7))\n",
    "ax.plot(predict, label='Prediction')\n",
    "ax.plot(Ytest)\n",
    "ax.legend()\n",
    "ax.set_xlabel('Sample Id')\n",
    "ax.set_ylabel('Distances')\n",
    "fig.show\n",
    "fig, ax = plt.subplots(figsize = (10, 7))\n",
    "ax.plot(predict)\n",
    "#ax.plot(Ytest * p2[1][0] + p2[0][0], label='Data')\n",
    "ax.legend()\n",
    "ax.set_xlabel('Sample Id')\n",
    "ax.set_ylabel('Distances')\n",
    "fig.show"
   ]
  },
  {
   "cell_type": "code",
   "execution_count": 6,
   "metadata": {},
   "outputs": [
    {
     "name": "stdout",
     "output_type": "stream",
     "text": [
      "EVS: 0.9949383567630778 \n",
      " RMSE: 0.6033327158747797 \n",
      " MAE: 0.48410413904825855 \n",
      " R2: 0.9919672444131806\n"
     ]
    },
    {
     "data": {
      "image/png": "[encoded data removed]",
      "text/plain": [
       "<Figure size 360x216 with 1 Axes>"
      ]
     },
     "metadata": {
      "needs_background": "light"
     },
     "output_type": "display_data"
    }
   ],
   "source": [
    "from math import sqrt\n",
    "neu = torch.load('model.pkl')\n",
    "#neu.eval()\n",
    "Xtest = Xtest\n",
    "xxx = Variable(torch.FloatTensor(Xtest))\n",
    "predict = neu(xxx)\n",
    "predict = predict.data.numpy()\n",
    "y_pred = predict\n",
    "y_true = Ytest\n",
    "EVS = explained_variance_score(y_true, y_pred)\n",
    "MAE = mean_absolute_error(y_true, y_pred)\n",
    "RMSE = sqrt(mean_squared_error(y_true, y_pred))\n",
    "R2 = r2_score(y_true, y_pred)\n",
    "print('EVS:',EVS,'\\n','RMSE:',RMSE,'\\n', 'MAE:',MAE,'\\n','R2:',R2)\n",
    "y_1 = y_pred\n",
    "#xx = Xtest.iloc[:,0][:, np.newaxis]\n",
    "\n",
    "#plt.rcParams['figure.figsize']=(10,4)\n",
    "font1={'family' : 'Times New Roman','weight': 'normal','size': 14}\n",
    "#plt.rcParams['font'] = font1\n",
    "fig, ax = plt.subplots(figsize = (5, 3))\n",
    "plt.scatter(np.arange(300),y_true, s=10, edgecolor=\"black\",c=\"blue\", label=\"Actuality\")\n",
    "ax.plot(y_pred, label='Prediction',c = 'r')\n",
    "#ax.plot(y_true)\n",
    "ax.legend(fontsize=13,prop=font1)\n",
    "plt.yticks(fontsize = 16,family = 'Times New Roman')\n",
    "plt.xticks(np.linspace(0,300,7),fontsize = 16,family = 'Times New Roman')\n",
    "plt.xticks(np.linspace(0,300,7),fontsize = 16,family = 'Times New Roman')\n",
    "ax.set_xlabel('Number of test data sets(Sorted)',fontsize = 16,family = 'Times New Roman')\n",
    "ax.set_ylabel('Distance/(m)',fontsize = 16,family = 'Times New Roman')\n",
    "plt.title('(D) ANN',fontsize = 17,family = 'Times New Roman')\n",
    "fig.show\n",
    "np.savetxt('ANN_error.txt',y_pred-y_true,fmt = '%f4')\n",
    "plt.savefig('ANN_regression.svg', bbox_inches='tight')"
   ]
  },
  {
   "cell_type": "markdown",
   "metadata": {},
   "source": [
    "## The parameter of evaluating"
   ]
  },
  {
   "cell_type": "code",
   "execution_count": 7,
   "metadata": {},
   "outputs": [
    {
     "name": "stdout",
     "output_type": "stream",
     "text": [
      "MSE: 0.39272571573996473\n",
      "RMSE: 0.6266783191877351\n",
      "MAE: 0.40550120155334485\n",
      "MAPE: 3.151970150644577\n",
      "SMAPE: 3.1230687371259305\n"
     ]
    }
   ],
   "source": [
    "y_pred = predict\n",
    "y_true = Ytest\n",
    "def mape(y_true, y_pred):\n",
    "    return np.mean(np.abs((y_pred - y_true) / y_true)) * 100\n",
    "\n",
    "def smape(y_true, y_pred):\n",
    "    return 2.0 * np.mean(np.abs(y_pred - y_true) / (np.abs(y_pred) + np.abs(y_true))) * 100\n",
    "\n",
    "# y_true = REAL\n",
    "# y_pred = PRE\n",
    "\n",
    "# MSE\n",
    "print('MSE:',metrics.mean_squared_error(y_true, y_pred)) # 8.107142857142858\n",
    "# RMSE\n",
    "print('RMSE:',np.sqrt(metrics.mean_squared_error(y_true, y_pred))) # 2.847304489713536\n",
    "# MAE\n",
    "print('MAE:',metrics.mean_absolute_error(y_true, y_pred)) # 1.9285714285714286\n",
    "# MAPE\n",
    "print('MAPE:',mape(y_true, y_pred)) # 76.07142857142858\n",
    "# SMAPE\n",
    "print('SMAPE:',smape(y_true, y_pred)) # 57.76942355889724"
   ]
  },
  {
   "cell_type": "markdown",
   "metadata": {},
   "source": [
    "##### Saving the model"
   ]
  },
  {
   "cell_type": "code",
   "execution_count": 22,
   "metadata": {},
   "outputs": [],
   "source": [
    "torch.save(neu, 'model.pkl')"
   ]
  },
  {
   "cell_type": "markdown",
   "metadata": {},
   "source": [
    "##### loding the model"
   ]
  },
  {
   "cell_type": "code",
   "execution_count": 5,
   "metadata": {},
   "outputs": [
    {
     "data": {
      "text/plain": [
       "Sequential(\n",
       "  (0): Linear(in_features=3, out_features=10, bias=True)\n",
       "  (1): Sigmoid()\n",
       "  (2): Linear(in_features=10, out_features=8, bias=True)\n",
       "  (3): Sigmoid()\n",
       "  (4): Linear(in_features=8, out_features=6, bias=True)\n",
       "  (5): Sigmoid()\n",
       "  (6): Linear(in_features=6, out_features=1, bias=True)\n",
       ")"
      ]
     },
     "execution_count": 5,
     "metadata": {},
     "output_type": "execute_result"
    }
   ],
   "source": [
    "neu = torch.load('model.pkl')\n",
    "neu.eval()"
   ]
  },
  {
   "cell_type": "markdown",
   "metadata": {},
   "source": [
    "# NEURAL NETWORK--classify"
   ]
  },
  {
   "cell_type": "markdown",
   "metadata": {},
   "source": [
    "## Import packages"
   ]
  },
  {
   "cell_type": "code",
   "execution_count": 1,
   "metadata": {},
   "outputs": [
    {
     "name": "stderr",
     "output_type": "stream",
     "text": [
      "[NbConvertApp] Converting notebook d2lzh_pytorch.ipynb to python\n",
      "[NbConvertApp] Writing 47013 bytes to d2lzh_pytorch.py\n"
     ]
    },
    {
     "name": "stdout",
     "output_type": "stream",
     "text": [
      "1.4.0+cpu\n"
     ]
    }
   ],
   "source": [
    "%matplotlib inline\n",
    "import numpy as np\n",
    "import pandas as pd\n",
    "import torch.nn as nn\n",
    "import torch.nn.functional as F\n",
    "import matplotlib.pyplot as plt\n",
    "import torch as t\n",
    "import torch\n",
    "import sys\n",
    "import d2lzh_pytorch as d2l\n",
    "from sklearn import metrics\n",
    "from torch.autograd import Variable\n",
    "from sklearn.model_selection import train_test_split\n",
    "import torch.optim as optim\n",
    "print(torch.__version__)\n",
    "torch.set_default_tensor_type(torch.FloatTensor)\n",
    "from sklearn.metrics import classification_report\n",
    "from sklearn.metrics import confusion_matrix\n",
    "from sklearn.metrics import accuracy_score\n",
    "from sklearn.ensemble import RandomForestClassifier\n",
    "from sklearn.metrics import plot_confusion_matrix\n",
    "from sklearn.metrics import plot_confusion_matrix2"
   ]
  },
  {
   "cell_type": "markdown",
   "metadata": {},
   "source": [
    "## Import data"
   ]
  },
  {
   "cell_type": "code",
   "execution_count": 2,
   "metadata": {},
   "outputs": [],
   "source": [
    "data = pd.read_csv(r\"C:\\Users\\DELL\\Desktop\\Fire_Data\\val_cross.csv\"\n",
    "                   ,index_col = 0\n",
    "                  )\n",
    "data.head()\n",
    "##The nest two raws code will used when solve classify question\n",
    "data[\"BackDistance\"]=(data[\"BackDistance\"]>= 15).astype(\"int\")\n",
    "data[\"BackDistance\"]\n",
    "type(data)\n",
    "X = data.iloc[:,data.columns != \"BackDistance\"]\n",
    "y = data.iloc[:,data.columns == \"BackDistance\"]\n",
    "X.shape, y.shape\n",
    "(y == 0).sum()\n",
    "Xtrain, Xtest, Ytrain, Ytest = train_test_split(X,y,test_size=0.3,random_state = 40)\n",
    "Xtrain.head()\n",
    "[Xtrain, Xtest, Ytrain, Ytest]\n",
    "for i in [Xtrain, Xtest, Ytrain, Ytest]:\n",
    "    i.index = range(i.shape[0])\n",
    "Ytrain.head()\n",
    "yy = Ytest"
   ]
  },
  {
   "cell_type": "markdown",
   "metadata": {},
   "source": [
    "## Data preprocessing"
   ]
  },
  {
   "cell_type": "code",
   "execution_count": 3,
   "metadata": {},
   "outputs": [],
   "source": [
    "from sklearn.preprocessing import StandardScaler\n",
    "#Standardscalar for X data\n",
    "scalar = StandardScaler()\n",
    "scalar.fit(Xtrain)\n",
    "Xtrain = scalar.transform(Xtrain)\n",
    "Xtest = scalar.transform(Xtest)\n",
    "Ytrain = Ytrain.values\n",
    "Ytest = Ytest.values"
   ]
  },
  {
   "cell_type": "markdown",
   "metadata": {},
   "source": [
    "## Traning Network"
   ]
  },
  {
   "cell_type": "code",
   "execution_count": 4,
   "metadata": {},
   "outputs": [
    {
     "data": {
      "text/plain": [
       "array([1, 1, 0, 0, 1, 0, 1, 0, 0, 1, 1, 0, 1, 1, 1, 1, 1, 1, 1, 1, 0, 1,\n",
       "       1, 1, 1, 1, 0, 0, 0, 1, 1, 0, 1, 1, 1, 1, 1, 0, 0, 1, 1, 1, 1, 1,\n",
       "       1, 1, 0, 0, 1, 1, 1, 1, 1, 1, 1, 0, 1, 1, 1, 1, 1, 0, 0, 0, 1, 0,\n",
       "       1, 0, 1, 0, 1, 1, 1, 1, 0, 1, 0, 1, 0, 1, 1, 1, 1, 1, 0, 1, 1, 1,\n",
       "       0, 1, 0, 0, 0, 1, 0, 1, 0, 0, 1, 1, 1, 0, 1, 1, 0, 1, 1, 1, 0, 0,\n",
       "       0, 1, 0, 0, 1, 0, 1, 0, 0, 1, 1, 1, 1, 1, 0, 0, 1, 0, 1, 1, 0, 1,\n",
       "       0, 1, 0, 1, 1, 1, 1, 1, 0, 1, 1, 0, 1, 1, 1, 1, 1, 1, 1, 0, 1, 1,\n",
       "       1, 1, 1, 1, 1, 0, 1, 0, 1, 0, 0, 0, 1, 0, 0, 1, 0, 0, 1, 1, 1, 1,\n",
       "       1, 0, 1, 1, 1, 1, 1, 1, 0, 1, 1, 0, 1, 1, 0, 0, 0, 1, 0, 1, 1, 1,\n",
       "       0, 0, 1, 1, 0, 1, 1, 1, 1, 0, 1, 0, 0, 1, 1, 0, 1, 0, 1, 0, 1, 1,\n",
       "       0, 1, 0, 1, 1, 0, 1, 0, 1, 0, 1, 1, 0, 1, 0, 0, 1, 1, 0, 1, 0, 1,\n",
       "       1, 1, 1, 1, 1, 1, 0, 1, 1, 0, 1, 1, 1, 1, 1, 0, 0, 1, 0, 1, 1, 1,\n",
       "       1, 0, 0, 0, 0, 1, 1, 1, 1, 1, 0, 1, 0, 1, 1, 1, 1, 1, 1, 0, 0, 1,\n",
       "       1, 0, 1, 1, 0, 1, 1, 1, 0, 0, 0, 1, 1, 1])"
      ]
     },
     "execution_count": 4,
     "metadata": {},
     "output_type": "execute_result"
    }
   ],
   "source": [
    "# restruct the regression network Neuc\n",
    "input_size = Xtrain.shape[1]\n",
    "hidden1_size = 10\n",
    "hidden2_size = 8\n",
    "hidden3_size = 6\n",
    "output_size = 2\n",
    "batch_size = 16\n",
    "\n",
    "neuc = torch.nn.Sequential(\n",
    "    torch.nn.Linear(input_size, hidden1_size),\n",
    "    torch.nn.Sigmoid(),\n",
    "    torch.nn.Linear(hidden1_size,hidden2_size),\n",
    "    torch.nn.Sigmoid(),\n",
    "    torch.nn.Linear(hidden2_size,hidden3_size),\n",
    "    torch.nn.Sigmoid(),\n",
    "    torch.nn.Linear(hidden3_size,output_size),\n",
    "    torch.nn.Sigmoid()\n",
    ")\n",
    "\n",
    "# cost = CrossEntropyLoss\n",
    "cost = torch.nn.CrossEntropyLoss()\n",
    "optimizer = torch.optim.SGD(neuc.parameters(), lr = 0.015)\n",
    "\n",
    "Y_labels = Ytrain > 0.5\n",
    "Y_labels = Y_labels.astype(int)\n",
    "Y_labels = Y_labels.reshape(-1)\n",
    "Ytrain = Ytrain.reshape(-1)\n",
    "Ytest = Ytest.reshape(-1)\n",
    "Ytest"
   ]
  },
  {
   "cell_type": "code",
   "execution_count": 5,
   "metadata": {},
   "outputs": [],
   "source": [
    "def error_rate(predictions, labels):\n",
    "    predictions = np.argmax(predictions, axis=1)\n",
    "    return 100.0 - (\n",
    "      100.0 *\n",
    "      np.sum( predictions == labels) /\n",
    "      predictions.shape[0])"
   ]
  },
  {
   "cell_type": "code",
   "execution_count": 5,
   "metadata": {},
   "outputs": [
    {
     "name": "stdout",
     "output_type": "stream",
     "text": [
      "0 0.6974358 65.55232558139535\n",
      "100 0.6444018 34.44767441860465\n",
      "200 0.64421105 34.44767441860465\n",
      "300 0.6440907 34.44767441860465\n",
      "400 0.64397186 34.44767441860465\n",
      "500 0.64384574 34.44767441860465\n",
      "600 0.6437027 34.44767441860465\n",
      "700 0.6435295 34.44767441860465\n",
      "800 0.6433054 34.44767441860465\n",
      "900 0.64299685 34.44767441860465\n",
      "1000 0.6425414 34.44767441860465\n",
      "1100 0.6418135 34.44767441860465\n",
      "1200 0.64052504 34.44767441860465\n",
      "1300 0.6378899 34.44767441860465\n",
      "1400 0.6311619 34.44767441860465\n",
      "1500 0.6070127 34.44767441860465\n",
      "1600 0.5138899 13.081395348837209\n",
      "1700 0.41077116 2.1802325581395348\n",
      "1800 0.37169632 1.744186046511628\n",
      "1900 0.3562333 1.8895348837209303\n",
      "2000 0.34862974 1.744186046511628\n",
      "2100 0.3442542 1.744186046511628\n",
      "2200 0.34145176 1.744186046511628\n",
      "2300 0.33951706 1.744186046511628\n",
      "2400 0.33810645 1.744186046511628\n",
      "2500 0.3370347 1.744186046511628\n",
      "2600 0.3361939 1.744186046511628\n",
      "2700 0.3355169 1.744186046511628\n",
      "2800 0.3349602 1.744186046511628\n",
      "2900 0.3344943 1.744186046511628\n",
      "3000 0.3340984 1.744186046511628\n",
      "3100 0.33375755 1.744186046511628\n",
      "3200 0.33346078 1.744186046511628\n",
      "3300 0.33319962 1.744186046511628\n",
      "3400 0.3329677 1.744186046511628\n",
      "3500 0.33276004 1.744186046511628\n",
      "3600 0.3325726 1.744186046511628\n",
      "3700 0.3324023 1.5988372093023255\n",
      "3800 0.3322465 1.5988372093023255\n",
      "3900 0.3321031 1.5988372093023255\n"
     ]
    },
    {
     "data": {
      "text/plain": [
       "<matplotlib.legend.Legend at 0x25856cf86a0>"
      ]
     },
     "execution_count": 5,
     "metadata": {},
     "output_type": "execute_result"
    },
    {
     "data": {
      "image/png": "[encoded data removed]",
      "text/plain": [
       "<Figure size 432x288 with 1 Axes>"
      ]
     },
     "metadata": {
      "needs_background": "light"
     },
     "output_type": "display_data"
    }
   ],
   "source": [
    "# Training\n",
    "losses = []\n",
    "errors = []\n",
    "losses_test = []\n",
    "errors_test = []\n",
    "for i in range(4000):\n",
    "    batch_loss = []\n",
    "    batch_errors = []\n",
    "    for start, end in zip(range(0, len(Xtrain), batch_size), range(batch_size, len(Xtrain)+1, batch_size)):\n",
    "        xx = Variable(torch.FloatTensor(Xtrain[start:end]))\n",
    "        yy = Variable(torch.LongTensor(Ytrain[start:end]))\n",
    "        predict = neuc(xx)\n",
    "        predict = predict\n",
    "        #print(predict,yy)\n",
    "        loss = cost(predict, yy)\n",
    "        err = error_rate(predict.data.numpy(), yy.data.numpy())\n",
    "        optimizer.zero_grad()\n",
    "        loss.backward()\n",
    "        optimizer.step()\n",
    "        batch_loss.append(loss.data.numpy())\n",
    "        batch_errors.append(err)\n",
    "    \n",
    "\n",
    "    if i % 100==0:\n",
    "        losses.append(np.mean(batch_loss))\n",
    "        errors.append(np.mean(batch_errors))\n",
    "        print(i, np.mean(batch_loss), np.mean(batch_errors))\n",
    "        \n",
    "        xx_test = Variable(torch.FloatTensor(Xtest))\n",
    "        yy_test = Variable(torch.LongTensor(Ytest))\n",
    "        predict_test = neuc(xx_test)\n",
    "        loss_test = cost(predict_test, yy_test)\n",
    "        err_test = error_rate(predict_test.data.numpy(), yy_test.data.numpy())\n",
    "        losses_test.append(loss_test)\n",
    "        errors_test.append(err_test)\n",
    "\n",
    "plt.plot(np.arange(len(losses))*100,losses, label = 'Cross Entropy')\n",
    "plt.plot(np.arange(len(losses))*100, np.array(errors_test) / float(100), label = 'Error Rate')\n",
    "plt.plot(np.arange(len(losses_test))*100,losses_test, label = 'Cross Entropy_test')\n",
    "plt.plot(np.arange(len(losses_test))*100, np.array(errors_test) / float(100), label = 'Error Rate_test')\n",
    "plt.xlabel('epoch')\n",
    "plt.ylabel('Cross Entropy/Error rates')\n",
    "plt.legend()"
   ]
  },
  {
   "cell_type": "code",
   "execution_count": 7,
   "metadata": {},
   "outputs": [
    {
     "name": "stdout",
     "output_type": "stream",
     "text": [
      "0.6666666666666714\n"
     ]
    },
    {
     "data": {
      "text/plain": [
       "Text(0,0.5,'Probabilities')"
      ]
     },
     "execution_count": 7,
     "metadata": {},
     "output_type": "execute_result"
    },
    {
     "data": {
      "image/png": "[encoded data removed]",
      "text/plain": [
       "<Figure size 576x432 with 1 Axes>"
      ]
     },
     "metadata": {
      "needs_background": "light"
     },
     "output_type": "display_data"
    }
   ],
   "source": [
    "\n",
    "# targets = test_targets['cnt']\n",
    "# targets = targets.values.reshape([len(targets), 1])\n",
    "# Y_labels = targets > np.mean(Y)\n",
    "# Y_labels = Y_labels.astype(int)\n",
    "Y_labels = Ytest\n",
    "x = Variable(torch.FloatTensor(Xtest))\n",
    "\n",
    "# Print the error rate\n",
    "predict = neuc(x)\n",
    "print(error_rate(predict.data.numpy(), Y_labels))\n",
    "\n",
    "# display the error and right data\n",
    "prob = predict.data.numpy()\n",
    "rights = np.argmax(prob, 1) == Y_labels\n",
    "wrongs = np.argmax(prob, 1) != Y_labels\n",
    "right_labels = Y_labels[rights]\n",
    "wrong_labels = Y_labels[wrongs]\n",
    "probs = prob[rights, :]\n",
    "probs1 = prob[wrongs, :]\n",
    "rightness = [probs[i, right_labels[i]] for i in range(len(right_labels))]\n",
    "right_index = np.arange(len(Y_labels))[rights]\n",
    "wrongness = [probs1[i, wrong_labels[i]] for i in range(len(wrong_labels))]\n",
    "wrong_index = np.arange(len(Y_labels))[wrongs]\n",
    "fig, ax = plt.subplots(figsize = (8, 6))\n",
    "ax.plot(right_index, rightness, '.', label='Right')\n",
    "ax.plot(wrong_index, wrongness,'o',label='Wrong')\n",
    "ax.legend()\n",
    "plt.ylabel('Probabilities')\n",
    "# dates = pd.to_datetime(rides.loc[.index]['dteday'])\n",
    "# dates = dates.apply(lambda d: d.strftime('%b %d'))\n",
    "# ax.set_xticks(np.arange(len(dates))[12::24])\n",
    "# _ = ax.set_xticklabels(dates[12::24], rotation=45)"
   ]
  },
  {
   "cell_type": "code",
   "execution_count": null,
   "metadata": {},
   "outputs": [],
   "source": []
  },
  {
   "cell_type": "code",
   "execution_count": 8,
   "metadata": {},
   "outputs": [
    {
     "name": "stdout",
     "output_type": "stream",
     "text": [
      "              precision    recall  f1-score   support\n",
      "\n",
      "     class 0     1.0000    0.9810    0.9904       105\n",
      "     class 1     0.9898    1.0000    0.9949       195\n",
      "\n",
      "    accuracy                         0.9933       300\n",
      "   macro avg     0.9949    0.9905    0.9926       300\n",
      "weighted avg     0.9934    0.9933    0.9933       300\n",
      "\n",
      "ACC: 0.9933333333333333\n"
     ]
    }
   ],
   "source": [
    "y_predict = np.argmax(predict.data.numpy(), axis=1)\n",
    "target_names = ['class 0', 'class 1']\n",
    "acc = accuracy_score(Ytest, y_predict)\n",
    "print(classification_report(Ytest, y_predict, target_names=target_names, digits=4))\n",
    "print('ACC:',acc)"
   ]
  },
  {
   "cell_type": "code",
   "execution_count": 10,
   "metadata": {},
   "outputs": [
    {
     "name": "stdout",
     "output_type": "stream",
     "text": [
      "ANN\n",
      "[[103   2]\n",
      " [  0 195]]\n"
     ]
    },
    {
     "data": {
      "image/png": "[encoded data removed]",
      "text/plain": [
       "<Figure size 432x288 with 2 Axes>"
      ]
     },
     "metadata": {
      "needs_background": "light"
     },
     "output_type": "display_data"
    }
   ],
   "source": [
    "import numpy as np\n",
    "import matplotlib.pyplot as plt\n",
    "from sklearn.metrics import plot_confusion_matrix\n",
    "from sklearn.metrics import plot_confusion_matrix2\n",
    "class_names = ['Non backflow','Backflow']\n",
    "titles_options = [(\"ANN\", None)\n",
    "                 #,(\"Normalized confusion matrix\", 'true')\n",
    "                 ]\n",
    "for title, normalize in titles_options:\n",
    "    disp = plot_confusion_matrix2(y_predict, Ytest,\n",
    "                                 display_labels=class_names,\n",
    "                                 cmap=plt.cm.Blues,\n",
    "                                 values_format='.0f',\n",
    "                                 normalize=None)\n",
    "    disp.ax_.set_title(title,fontsize = 16,family = 'Times New Roman')\n",
    "    plt.yticks()\n",
    "    print(title)\n",
    "    print(disp.confusion_matrix)\n",
    "    plt.savefig('ANN.svg', bbox_inches='tight')\n",
    "plt.show()"
   ]
  },
  {
   "cell_type": "code",
   "execution_count": 12,
   "metadata": {},
   "outputs": [],
   "source": [
    "#############################\n",
    "# pppppppp\n",
    "#  lllllllll\n",
    "#     ooooooooo\n",
    "#       tttttttttt\n",
    "##############################\n",
    "ytest = Ytest.reshape(-1,1).ravel()\n",
    "yy=y_predict.reshape(-1,1).ravel()\n",
    "sample = np.arange(300).ravel()\n",
    "sm = (sample).reshape(-1,1).ravel()\n",
    "A=[sm,yy,ytest]\n",
    "B=np.zeros((3, 298))#right\n",
    "C=np.zeros((3, 2))#falut\n",
    "np.array(A).shape\n",
    "m,n = 0,0\n",
    "for i in range(300):\n",
    "    if A[1][i] == A[2][i]:\n",
    "        B[0][m] = A[0][i]\n",
    "        B[1][m] = A[1][i]\n",
    "        B[2][m] = A[2][i]\n",
    "        m = m+1\n",
    "    else:\n",
    "        C[0][n] = A[0][i]\n",
    "        C[1][n] = A[1][i]\n",
    "        C[2][n] = A[2][i]\n",
    "        n = n+1\n",
    "np.savetxt('ANN_right.txt',B,fmt = '%d')\n",
    "np.savetxt('ANN_fault.txt',C,fmt = '%d')"
   ]
  },
  {
   "cell_type": "markdown",
   "metadata": {},
   "source": [
    "##### saving the model"
   ]
  },
  {
   "cell_type": "code",
   "execution_count": 9,
   "metadata": {},
   "outputs": [],
   "source": [
    "torch.save(neuc, 'model_classify.pkl')"
   ]
  },
  {
   "cell_type": "markdown",
   "metadata": {},
   "source": [
    "##### loading the model"
   ]
  },
  {
   "cell_type": "code",
   "execution_count": 6,
   "metadata": {},
   "outputs": [
    {
     "data": {
      "text/plain": [
       "Sequential(\n",
       "  (0): Linear(in_features=3, out_features=10, bias=True)\n",
       "  (1): Sigmoid()\n",
       "  (2): Linear(in_features=10, out_features=8, bias=True)\n",
       "  (3): Sigmoid()\n",
       "  (4): Linear(in_features=8, out_features=6, bias=True)\n",
       "  (5): Sigmoid()\n",
       "  (6): Linear(in_features=6, out_features=2, bias=True)\n",
       "  (7): Sigmoid()\n",
       ")"
      ]
     },
     "execution_count": 6,
     "metadata": {},
     "output_type": "execute_result"
    }
   ],
   "source": [
    "neuc = torch.load('model_classify.pkl')\n",
    "neuc.eval()"
   ]
  },
  {
   "cell_type": "code",
   "execution_count": null,
   "metadata": {},
   "outputs": [],
   "source": []
  }
 ],
 "metadata": {
  "kernelspec": {
   "display_name": "Python 3",
   "language": "python",
   "name": "python3"
  },
  "language_info": {
   "codemirror_mode": {
    "name": "ipython",
    "version": 3
   },
   "file_extension": ".py",
   "mimetype": "text/x-python",
   "name": "python",
   "nbconvert_exporter": "python",
   "pygments_lexer": "ipython3",
   "version": "3.7.0"
  }
 },
 "nbformat": 4,
 "nbformat_minor": 2
}
