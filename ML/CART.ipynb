{
 "cells": [
  {
   "cell_type": "markdown",
   "metadata": {},
   "source": [
    "## Classfication of CART"
   ]
  },
  {
   "cell_type": "code",
   "execution_count": 1,
   "metadata": {},
   "outputs": [],
   "source": [
    "import pandas as pd\n",
    "from sklearn import tree\n",
    "from sklearn.tree import DecisionTreeClassifier\n",
    "from sklearn.model_selection import train_test_split\n",
    "from sklearn.model_selection import GridSearchCV\n",
    "from sklearn.model_selection import cross_val_score\n",
    "from sklearn.model_selection import cross_validate\n",
    "import matplotlib.pyplot as plt\n",
    "from sklearn.metrics import classification_report\n",
    "from sklearn.metrics import confusion_matrix\n",
    "from sklearn.metrics import accuracy_score\n",
    "from sklearn.ensemble import RandomForestClassifier"
   ]
  },
  {
   "cell_type": "code",
   "execution_count": 2,
   "metadata": {},
   "outputs": [
    {
     "data": {
      "text/plain": [
       "pandas.core.frame.DataFrame"
      ]
     },
     "execution_count": 2,
     "metadata": {},
     "output_type": "execute_result"
    }
   ],
   "source": [
    "data = pd.read_csv(r\"C:\\Users\\DELL\\Desktop\\Fire_Data\\val_cross.csv\"\n",
    "                   ,index_col = 0  #Erase the first row\n",
    "                  )\n",
    "data.head()\n",
    "data[\"BackDistance\"]=(data[\"BackDistance\"]>= 15).astype(\"int\")\n",
    "data[\"BackDistance\"]\n",
    "data.head()\n",
    "type(data)"
   ]
  },
  {
   "cell_type": "code",
   "execution_count": null,
   "metadata": {},
   "outputs": [],
   "source": []
  },
  {
   "cell_type": "code",
   "execution_count": 3,
   "metadata": {},
   "outputs": [
    {
     "name": "stdout",
     "output_type": "stream",
     "text": [
      "<class 'pandas.core.frame.DataFrame'>\n",
      "Int64Index: 1000 entries, 1 to 1000\n",
      "Data columns (total 4 columns):\n",
      "V               1000 non-null float64\n",
      "T               1000 non-null float64\n",
      "HRR             1000 non-null float64\n",
      "BackDistance    1000 non-null int32\n",
      "dtypes: float64(3), int32(1)\n",
      "memory usage: 35.2 KB\n"
     ]
    }
   ],
   "source": [
    "data.info()"
   ]
  },
  {
   "cell_type": "code",
   "execution_count": 4,
   "metadata": {},
   "outputs": [],
   "source": []
  },
  {
   "cell_type": "code",
   "execution_count": 5,
   "metadata": {},
   "outputs": [
    {
     "data": {
      "text/html": [
       "<div>\n",
       "<style scoped>\n",
       "    .dataframe tbody tr th:only-of-type {\n",
       "        vertical-align: middle;\n",
       "    }\n",
       "\n",
       "    .dataframe tbody tr th {\n",
       "        vertical-align: top;\n",
       "    }\n",
       "\n",
       "    .dataframe thead th {\n",
       "        text-align: right;\n",
       "    }\n",
       "</style>\n",
       "<table border=\"1\" class=\"dataframe\">\n",
       "  <thead>\n",
       "    <tr style=\"text-align: right;\">\n",
       "      <th></th>\n",
       "      <th>V</th>\n",
       "      <th>T</th>\n",
       "      <th>HRR</th>\n",
       "      <th>BackDistance</th>\n",
       "    </tr>\n",
       "    <tr>\n",
       "      <th>Id</th>\n",
       "      <th></th>\n",
       "      <th></th>\n",
       "      <th></th>\n",
       "      <th></th>\n",
       "    </tr>\n",
       "  </thead>\n",
       "  <tbody>\n",
       "    <tr>\n",
       "      <th>1</th>\n",
       "      <td>2.7486</td>\n",
       "      <td>16.8125</td>\n",
       "      <td>5578.8956</td>\n",
       "      <td>0</td>\n",
       "    </tr>\n",
       "    <tr>\n",
       "      <th>2</th>\n",
       "      <td>1.1585</td>\n",
       "      <td>12.8702</td>\n",
       "      <td>9768.1077</td>\n",
       "      <td>1</td>\n",
       "    </tr>\n",
       "    <tr>\n",
       "      <th>3</th>\n",
       "      <td>1.0696</td>\n",
       "      <td>23.5542</td>\n",
       "      <td>11833.7440</td>\n",
       "      <td>1</td>\n",
       "    </tr>\n",
       "    <tr>\n",
       "      <th>4</th>\n",
       "      <td>2.3904</td>\n",
       "      <td>14.4162</td>\n",
       "      <td>7735.6189</td>\n",
       "      <td>0</td>\n",
       "    </tr>\n",
       "    <tr>\n",
       "      <th>5</th>\n",
       "      <td>0.5358</td>\n",
       "      <td>14.7729</td>\n",
       "      <td>11367.2940</td>\n",
       "      <td>1</td>\n",
       "    </tr>\n",
       "  </tbody>\n",
       "</table>\n",
       "</div>"
      ],
      "text/plain": [
       "         V        T         HRR  BackDistance\n",
       "Id                                           \n",
       "1   2.7486  16.8125   5578.8956             0\n",
       "2   1.1585  12.8702   9768.1077             1\n",
       "3   1.0696  23.5542  11833.7440             1\n",
       "4   2.3904  14.4162   7735.6189             0\n",
       "5   0.5358  14.7729  11367.2940             1"
      ]
     },
     "execution_count": 5,
     "metadata": {},
     "output_type": "execute_result"
    }
   ],
   "source": [
    "data.head()"
   ]
  },
  {
   "cell_type": "code",
   "execution_count": 6,
   "metadata": {},
   "outputs": [
    {
     "data": {
      "text/plain": [
       "((1000, 3), (1000, 1))"
      ]
     },
     "execution_count": 6,
     "metadata": {},
     "output_type": "execute_result"
    }
   ],
   "source": [
    "X = data.iloc[:,data.columns != \"BackDistance\"]\n",
    "y = data.iloc[:,data.columns == \"BackDistance\"]\n",
    "X.shape, y.shape"
   ]
  },
  {
   "cell_type": "code",
   "execution_count": 7,
   "metadata": {},
   "outputs": [
    {
     "data": {
      "text/html": [
       "<div>\n",
       "<style scoped>\n",
       "    .dataframe tbody tr th:only-of-type {\n",
       "        vertical-align: middle;\n",
       "    }\n",
       "\n",
       "    .dataframe tbody tr th {\n",
       "        vertical-align: top;\n",
       "    }\n",
       "\n",
       "    .dataframe thead th {\n",
       "        text-align: right;\n",
       "    }\n",
       "</style>\n",
       "<table border=\"1\" class=\"dataframe\">\n",
       "  <thead>\n",
       "    <tr style=\"text-align: right;\">\n",
       "      <th></th>\n",
       "      <th>V</th>\n",
       "      <th>T</th>\n",
       "      <th>HRR</th>\n",
       "    </tr>\n",
       "  </thead>\n",
       "  <tbody>\n",
       "    <tr>\n",
       "      <th>0</th>\n",
       "      <td>2.5057</td>\n",
       "      <td>29.1050</td>\n",
       "      <td>10633.1450</td>\n",
       "    </tr>\n",
       "    <tr>\n",
       "      <th>1</th>\n",
       "      <td>2.1094</td>\n",
       "      <td>15.3562</td>\n",
       "      <td>6597.3150</td>\n",
       "    </tr>\n",
       "    <tr>\n",
       "      <th>2</th>\n",
       "      <td>1.2852</td>\n",
       "      <td>15.2067</td>\n",
       "      <td>14582.9360</td>\n",
       "    </tr>\n",
       "    <tr>\n",
       "      <th>3</th>\n",
       "      <td>1.6113</td>\n",
       "      <td>26.5699</td>\n",
       "      <td>5462.4926</td>\n",
       "    </tr>\n",
       "    <tr>\n",
       "      <th>4</th>\n",
       "      <td>1.5948</td>\n",
       "      <td>20.1767</td>\n",
       "      <td>9989.1522</td>\n",
       "    </tr>\n",
       "  </tbody>\n",
       "</table>\n",
       "</div>"
      ],
      "text/plain": [
       "        V        T         HRR\n",
       "0  2.5057  29.1050  10633.1450\n",
       "1  2.1094  15.3562   6597.3150\n",
       "2  1.2852  15.2067  14582.9360\n",
       "3  1.6113  26.5699   5462.4926\n",
       "4  1.5948  20.1767   9989.1522"
      ]
     },
     "execution_count": 7,
     "metadata": {},
     "output_type": "execute_result"
    }
   ],
   "source": [
    "from sklearn.model_selection import train_test_split\n",
    "Xtrain, Xtest, Ytrain, Ytest = train_test_split(X,y,test_size=0.3,random_state = 40)\n",
    "#Modify the index of test set and training set\n",
    "Xtrain.head()\n",
    "[Xtrain, Xtest, Ytrain, Ytest]\n",
    "for i in [Xtrain, Xtest, Ytrain, Ytest]:\n",
    "    i.index = range(i.shape[0])\n",
    "    \n",
    "#View the divided training set and test set\n",
    "Xtrain.head()"
   ]
  },
  {
   "cell_type": "code",
   "execution_count": 8,
   "metadata": {},
   "outputs": [],
   "source": [
    "#cross-validation and tuning parameters\n",
    "clf = DecisionTreeClassifier(random_state=25  ##tuning1\n",
    "                            ,max_depth = 3    ##tuning2\n",
    "                            )\n",
    "clf = clf.fit(Xtrain, Ytrain)\n",
    "score = cross_val_score(clf,Xtrain,Ytrain,cv=10).mean()"
   ]
  },
  {
   "cell_type": "code",
   "execution_count": 19,
   "metadata": {},
   "outputs": [
    {
     "name": "stdout",
     "output_type": "stream",
     "text": [
      "              precision    recall  f1-score   support\n",
      "\n",
      "     class 0     0.9903    0.9714    0.9808       105\n",
      "     class 1     0.9848    0.9949    0.9898       195\n",
      "\n",
      "    accuracy                         0.9867       300\n",
      "   macro avg     0.9875    0.9832    0.9853       300\n",
      "weighted avg     0.9867    0.9867    0.9866       300\n",
      "\n",
      "ACC: 0.9866666666666667\n",
      "CART\n",
      "[[102   3]\n",
      " [  1 194]]\n"
     ]
    },
    {
     "data": {
      "image/png": "[encoded data removed]",
      "text/plain": [
       "<Figure size 432x288 with 2 Axes>"
      ]
     },
     "metadata": {
      "needs_background": "light"
     },
     "output_type": "display_data"
    }
   ],
   "source": [
    "#validation and performance metrics\n",
    "clf = DecisionTreeClassifier(random_state=25  ##tuning1\n",
    "                            ,max_depth = 3    ##tuning2\n",
    "                            )\n",
    "clf = clf.fit(Xtrain, Ytrain)\n",
    "y_predict = clf.predict(Xtest)\n",
    "target_names = ['class 0', 'class 1']\n",
    "acc = accuracy_score(Ytest, y_predict)\n",
    "print(classification_report(Ytest, y_predict, target_names=target_names, digits=4))\n",
    "print('ACC:',acc)\n",
    "# Plot non-normalized confusion matrix\n",
    "import numpy as np\n",
    "import matplotlib.pyplot as plt\n",
    "from sklearn.metrics import plot_confusion_matrix\n",
    "class_names = ['Non backflow','Backflow']\n",
    "titles_options = [(\"CART\", None)\n",
    "                 #,(\"Normalized confusion matrix\", 'true')\n",
    "                 ]\n",
    "for title, normalize in titles_options:\n",
    "    disp = plot_confusion_matrix(clf, Xtest, Ytest,\n",
    "                                 display_labels=class_names,\n",
    "                                 cmap=plt.cm.Blues,\n",
    "                                 values_format='.0f',\n",
    "                                 normalize=None\n",
    "                               # ,family = 'Times New Roman'\n",
    "                                )\n",
    "    disp.ax_.set_title(title,fontsize = 16,family = 'Times New Roman')\n",
    "\n",
    "    print(title)\n",
    "    print(disp.confusion_matrix)\n",
    "    plt.savefig('CART.svg', bbox_inches='tight')\n",
    "plt.show()"
   ]
  },
  {
   "cell_type": "code",
   "execution_count": null,
   "metadata": {},
   "outputs": [],
   "source": []
  },
  {
   "cell_type": "code",
   "execution_count": 81,
   "metadata": {},
   "outputs": [
    {
     "data": {
      "text/plain": [
       "0"
      ]
     },
     "execution_count": 81,
     "metadata": {},
     "output_type": "execute_result"
    }
   ],
   "source": [
    "m,n = 0,0\n",
    "m"
   ]
  },
  {
   "cell_type": "code",
   "execution_count": 142,
   "metadata": {},
   "outputs": [
    {
     "data": {
      "text/plain": [
       "(3, 300)"
      ]
     },
     "execution_count": 142,
     "metadata": {},
     "output_type": "execute_result"
    }
   ],
   "source": [
    "#############################\n",
    "# pppppppp\n",
    "#  lllllllll\n",
    "#     ooooooooo\n",
    "#       tttttttttt\n",
    "##############################\n",
    "ytest = Ytest.values.reshape(-1,1).ravel()\n",
    "yy=y_predict.reshape(-1,1).ravel()\n",
    "sample = np.arange(300).ravel()\n",
    "sm = (sample).reshape(-1,1).ravel()\n",
    "A=[sm,yy,ytest]\n",
    "B=np.zeros((3, 296))#right\n",
    "C=np.zeros((3, 4))#falut\n",
    "np.array(A).shape\n",
    "m,n = 0,0\n",
    "for i in range(300):\n",
    "    if A[1][i] == A[2][i]:\n",
    "        B[0][m] = A[0][i]\n",
    "        B[1][m] = A[1][i]\n",
    "        B[2][m] = A[2][i]\n",
    "        m = m+1\n",
    "    else:\n",
    "        C[0][n] = A[0][i]\n",
    "        C[1][n] = A[1][i]\n",
    "        C[2][n] = A[2][i]\n",
    "        n = n+1\n",
    "np.savetxt('CART_right.txt',B,fmt = '%d')\n",
    "np.savetxt('CART_fault.txt',C,fmt = '%d')"
   ]
  },
  {
   "cell_type": "code",
   "execution_count": 49,
   "metadata": {},
   "outputs": [
    {
     "ename": "AttributeError",
     "evalue": "'numpy.ndarray' object has no attribute 'info'",
     "output_type": "error",
     "traceback": [
      "\u001b[1;31m---------------------------------------------------------------------------\u001b[0m",
      "\u001b[1;31mAttributeError\u001b[0m                            Traceback (most recent call last)",
      "\u001b[1;32m<ipython-input-49-5a128c3ea797>\u001b[0m in \u001b[0;36m<module>\u001b[1;34m()\u001b[0m\n\u001b[1;32m----> 1\u001b[1;33m \u001b[0mytest\u001b[0m\u001b[1;33m.\u001b[0m\u001b[0minfo\u001b[0m\u001b[1;33m(\u001b[0m\u001b[1;33m)\u001b[0m\u001b[1;33m\u001b[0m\u001b[0m\n\u001b[0m",
      "\u001b[1;31mAttributeError\u001b[0m: 'numpy.ndarray' object has no attribute 'info'"
     ]
    }
   ],
   "source": [
    "ytest.info()"
   ]
  },
  {
   "cell_type": "code",
   "execution_count": 146,
   "metadata": {},
   "outputs": [
    {
     "name": "stderr",
     "output_type": "stream",
     "text": [
      "D:\\Users\\DELL\\Anaconda3\\lib\\site-packages\\ipykernel_launcher.py:10: DataConversionWarning: A column-vector y was passed when a 1d array was expected. Please change the shape of y to (n_samples,), for example using ravel().\n",
      "  # Remove the CWD from sys.path while we load stuff.\n"
     ]
    },
    {
     "name": "stdout",
     "output_type": "stream",
     "text": [
      "              precision    recall  f1-score   support\n",
      "\n",
      "     class 0     0.9900    0.9429    0.9659       105\n",
      "     class 1     0.9700    0.9949    0.9823       195\n",
      "\n",
      "    accuracy                         0.9767       300\n",
      "   macro avg     0.9800    0.9689    0.9741       300\n",
      "weighted avg     0.9770    0.9767    0.9765       300\n",
      "\n",
      "ACC: 0.9766666666666667\n",
      "RF\n",
      "[[ 99   6]\n",
      " [  1 194]]\n"
     ]
    },
    {
     "data": {
      "image/png": "[encoded data removed]",
      "text/plain": [
       "<Figure size 432x288 with 2 Axes>"
      ]
     },
     "metadata": {
      "needs_background": "light"
     },
     "output_type": "display_data"
    }
   ],
   "source": [
    "rfc = RandomForestClassifier(random_state=90\n",
    "                             , n_estimators = 32\n",
    "                             , criterion = 'entropy'\n",
    "                             , max_depth = 4\n",
    "                             , min_samples_split=2\n",
    "                             , min_samples_leaf=1\n",
    "                             , min_weight_fraction_leaf=0.0\n",
    "                             , n_jobs = -1\n",
    "                            )\n",
    "rfc = rfc.fit(Xtrain, Ytrain)\n",
    "y_predict_RF = rfc.predict(Xtest)\n",
    "target_names = ['class 0', 'class 1']\n",
    "acc_RF = accuracy_score(Ytest, y_predict_RF)\n",
    "print(classification_report(Ytest, y_predict_RF, target_names=target_names, digits=4))\n",
    "print('ACC:',acc_RF)\n",
    "# Plot non-normalized confusion matrix\n",
    "import numpy as np\n",
    "import matplotlib.pyplot as plt\n",
    "from sklearn.metrics import plot_confusion_matrix\n",
    "class_names = ['Non backflow','Backflow']\n",
    "titles_options = [(\"RF\", None)\n",
    "                 #,(\"Normalized confusion matrix\", 'true')\n",
    "                 ]\n",
    "for title, normalize in titles_options:\n",
    "    disp = plot_confusion_matrix(rfc, Xtest, Ytest,\n",
    "                                 display_labels=class_names,\n",
    "                                 cmap=plt.cm.Blues,\n",
    "                                 values_format='.0f',\n",
    "                                 normalize=None)\n",
    "    disp.ax_.set_title(title,fontsize = 16,family = 'Times New Roman')\n",
    "\n",
    "    print(title)\n",
    "    print(disp.confusion_matrix)\n",
    "    plt.savefig('RF.svg', bbox_inches='tight')\n",
    "plt.show()"
   ]
  },
  {
   "cell_type": "code",
   "execution_count": 147,
   "metadata": {},
   "outputs": [],
   "source": [
    "#############################\n",
    "# pppppppp\n",
    "#  lllllllll\n",
    "#     ooooooooo\n",
    "#       tttttttttt\n",
    "##############################\n",
    "ytest = Ytest.values.reshape(-1,1).ravel()\n",
    "yy=y_predict_RF.reshape(-1,1).ravel()\n",
    "sample = np.arange(300).ravel()\n",
    "sm = (sample).reshape(-1,1).ravel()\n",
    "A=[sm,yy,ytest]\n",
    "B=np.zeros((3, 293))#right\n",
    "C=np.zeros((3, 7))#falut\n",
    "np.array(A).shape\n",
    "m,n = 0,0\n",
    "for i in range(300):\n",
    "    if A[1][i] == A[2][i]:\n",
    "        B[0][m] = A[0][i]\n",
    "        B[1][m] = A[1][i]\n",
    "        B[2][m] = A[2][i]\n",
    "        m = m+1\n",
    "    else:\n",
    "        C[0][n] = A[0][i]\n",
    "        C[1][n] = A[1][i]\n",
    "        C[2][n] = A[2][i]\n",
    "        n = n+1\n",
    "np.savetxt('RF_right.txt',B,fmt = '%d')\n",
    "np.savetxt('RF_fault.txt',C,fmt = '%d')"
   ]
  },
  {
   "cell_type": "code",
   "execution_count": 21,
   "metadata": {},
   "outputs": [
    {
     "name": "stderr",
     "output_type": "stream",
     "text": [
      "D:\\Users\\DELL\\Anaconda3\\lib\\site-packages\\sklearn\\utils\\deprecation.py:125: FutureWarning: You are accessing a training score ('train_precision'), which will not be available by default any more in 0.21. If you need training scores, please set return_train_score=True\n",
      "  warnings.warn(*warn_args, **warn_kwargs)\n"
     ]
    },
    {
     "data": {
      "text/plain": [
       "array([0.96703297, 0.98876404, 0.97802198, 0.97727273, 0.97727273])"
      ]
     },
     "execution_count": 21,
     "metadata": {},
     "output_type": "execute_result"
    }
   ],
   "source": [
    "from sklearn.metrics import recall_score\n",
    "from sklearn.model_selection import cross_validate\n",
    "clf_val_score = DecisionTreeClassifier(random_state=25\n",
    "                            ,max_depth = 3\n",
    "                            )\n",
    "scoring = ['precision', 'recall']\n",
    "scores = cross_validate(clf_val_score, Xtrain, Ytrain,scoring=scoring, cv=5)\n",
    "sorted(scores.keys())\n",
    "scores['train_precision']\n",
    "scores['test_precision']\n",
    "# scores   \n",
    "\n",
    "# >>> sorted(scores.keys())\n",
    "# ['fit_time', 'score_time', 'test_precision_macro', 'test_recall_macro']\n",
    "# >>> scores['test_recall_macro']                       \n",
    "# array([0.96..., 1.  ..., 0.96..., 0.96..., 1.        ])"
   ]
  },
  {
   "cell_type": "code",
   "execution_count": 9,
   "metadata": {},
   "outputs": [],
   "source": [
    "# import numpy as np\n",
    "# predict_y = clf.predict(Xtest)\n",
    "# y_pre = predict_y[:,np.newaxis]\n",
    "# y = Ytest.iloc[:,0].values[:,np.newaxis]\n",
    "# pd.DataFrame(np.concatenate([y_pre, y],axis = 1),columns = ['Prediction','inition']).head()\n",
    "# # y.shape"
   ]
  },
  {
   "cell_type": "code",
   "execution_count": 14,
   "metadata": {},
   "outputs": [
    {
     "name": "stdout",
     "output_type": "stream",
     "text": [
      "0.979979597959796\n"
     ]
    },
    {
     "data": {
      "image/png": "[encoded data removed]",
      "text/plain": [
       "<Figure size 432x288 with 1 Axes>"
      ]
     },
     "metadata": {
      "needs_background": "light"
     },
     "output_type": "display_data"
    },
    {
     "data": {
      "text/plain": [
       "array([0.89071505, 0.02241718, 0.08686778])"
      ]
     },
     "execution_count": 14,
     "metadata": {},
     "output_type": "execute_result"
    }
   ],
   "source": [
    "tr = []\n",
    "te = []\n",
    "for i in range(10):\n",
    "    clf = DecisionTreeClassifier(random_state=25\n",
    "                                 ,max_depth=i+1\n",
    "                                 ,criterion=\"entropy\"\n",
    "                                )\n",
    "    clf = clf.fit(Xtrain, Ytrain)\n",
    "    score_tr = clf.score(Xtrain,Ytrain)\n",
    "    score_te = cross_val_score(clf,X,y,cv=10).mean()\n",
    "    tr.append(score_tr)\n",
    "    te.append(score_te)\n",
    "print(max(te))\n",
    "plt.plot(range(1,11),tr,color=\"red\",label=\"train\")\n",
    "plt.plot(range(1,11),te,color=\"blue\",label=\"test\")\n",
    "plt.xticks(range(1,11))\n",
    "plt.legend()\n",
    "plt.show()\n",
    "clf.feature_importances_"
   ]
  },
  {
   "cell_type": "code",
   "execution_count": 12,
   "metadata": {},
   "outputs": [
    {
     "data": {
      "image/svg+xml": [
       "<?xml version=\"1.0\" encoding=\"UTF-8\" standalone=\"no\"?>\r\n",
       "<!DOCTYPE svg PUBLIC \"-//W3C//DTD SVG 1.1//EN\"\r\n",
       " \"http://www.w3.org/Graphics/SVG/1.1/DTD/svg11.dtd\">\r\n",
       "<!-- Generated by graphviz version 2.38.0 (20140413.2041)\r\n",
       " -->\r\n",
       "<!-- Title: Tree Pages: 1 -->\r\n",
       "<svg width=\"799pt\" height=\"433pt\"\r\n",
       " viewBox=\"0.00 0.00 799.00 433.00\" xmlns=\"http://www.w3.org/2000/svg\" xmlns:xlink=\"http://www.w3.org/1999/xlink\">\r\n",
       "<g id=\"graph0\" class=\"graph\" transform=\"scale(1 1) rotate(0) translate(4 429)\">\r\n",
       "<title>Tree</title>\r\n",
       "<polygon fill=\"white\" stroke=\"none\" points=\"-4,4 -4,-429 795,-429 795,4 -4,4\"/>\r\n",
       "<!-- 0 -->\r\n",
       "<g id=\"node1\" class=\"node\"><title>0</title>\r\n",
       "<path fill=\"#399de5\" fill-opacity=\"0.454902\" stroke=\"black\" d=\"M370.5,-425C370.5,-425 264.5,-425 264.5,-425 258.5,-425 252.5,-419 252.5,-413 252.5,-413 252.5,-354 252.5,-354 252.5,-348 258.5,-342 264.5,-342 264.5,-342 370.5,-342 370.5,-342 376.5,-342 382.5,-348 382.5,-354 382.5,-354 382.5,-413 382.5,-413 382.5,-419 376.5,-425 370.5,-425\"/>\r\n",
       "<text text-anchor=\"middle\" x=\"317.5\" y=\"-409.8\" font-family=\"Helvetica,sans-Serif\" font-size=\"14.00\">风速 &lt;= 1.935</text>\r\n",
       "<text text-anchor=\"middle\" x=\"317.5\" y=\"-394.8\" font-family=\"Helvetica,sans-Serif\" font-size=\"14.00\">entropy = 0.937</text>\r\n",
       "<text text-anchor=\"middle\" x=\"317.5\" y=\"-379.8\" font-family=\"Helvetica,sans-Serif\" font-size=\"14.00\">samples = 700</text>\r\n",
       "<text text-anchor=\"middle\" x=\"317.5\" y=\"-364.8\" font-family=\"Helvetica,sans-Serif\" font-size=\"14.00\">value = [247, 453]</text>\r\n",
       "<text text-anchor=\"middle\" x=\"317.5\" y=\"-349.8\" font-family=\"Helvetica,sans-Serif\" font-size=\"14.00\">class = 不逆推</text>\r\n",
       "</g>\r\n",
       "<!-- 1 -->\r\n",
       "<g id=\"node2\" class=\"node\"><title>1</title>\r\n",
       "<path fill=\"#399de5\" fill-opacity=\"0.988235\" stroke=\"black\" d=\"M259,-306C259,-306 170,-306 170,-306 164,-306 158,-300 158,-294 158,-294 158,-235 158,-235 158,-229 164,-223 170,-223 170,-223 259,-223 259,-223 265,-223 271,-229 271,-235 271,-235 271,-294 271,-294 271,-300 265,-306 259,-306\"/>\r\n",
       "<text text-anchor=\"middle\" x=\"214.5\" y=\"-290.8\" font-family=\"Helvetica,sans-Serif\" font-size=\"14.00\">风速 &lt;= 1.766</text>\r\n",
       "<text text-anchor=\"middle\" x=\"214.5\" y=\"-275.8\" font-family=\"Helvetica,sans-Serif\" font-size=\"14.00\">entropy = 0.09</text>\r\n",
       "<text text-anchor=\"middle\" x=\"214.5\" y=\"-260.8\" font-family=\"Helvetica,sans-Serif\" font-size=\"14.00\">samples = 440</text>\r\n",
       "<text text-anchor=\"middle\" x=\"214.5\" y=\"-245.8\" font-family=\"Helvetica,sans-Serif\" font-size=\"14.00\">value = [5, 435]</text>\r\n",
       "<text text-anchor=\"middle\" x=\"214.5\" y=\"-230.8\" font-family=\"Helvetica,sans-Serif\" font-size=\"14.00\">class = 不逆推</text>\r\n",
       "</g>\r\n",
       "<!-- 0&#45;&gt;1 -->\r\n",
       "<g id=\"edge1\" class=\"edge\"><title>0&#45;&gt;1</title>\r\n",
       "<path fill=\"none\" stroke=\"black\" d=\"M281.765,-341.907C273.775,-332.832 265.226,-323.121 256.994,-313.769\"/>\r\n",
       "<polygon fill=\"black\" stroke=\"black\" points=\"259.407,-311.214 250.172,-306.021 254.153,-315.839 259.407,-311.214\"/>\r\n",
       "<text text-anchor=\"middle\" x=\"248.584\" y=\"-327.27\" font-family=\"Helvetica,sans-Serif\" font-size=\"14.00\">True</text>\r\n",
       "</g>\r\n",
       "<!-- 6 -->\r\n",
       "<g id=\"node7\" class=\"node\"><title>6</title>\r\n",
       "<path fill=\"#e58139\" fill-opacity=\"0.925490\" stroke=\"black\" d=\"M469.5,-306C469.5,-306 371.5,-306 371.5,-306 365.5,-306 359.5,-300 359.5,-294 359.5,-294 359.5,-235 359.5,-235 359.5,-229 365.5,-223 371.5,-223 371.5,-223 469.5,-223 469.5,-223 475.5,-223 481.5,-229 481.5,-235 481.5,-235 481.5,-294 481.5,-294 481.5,-300 475.5,-306 469.5,-306\"/>\r\n",
       "<text text-anchor=\"middle\" x=\"420.5\" y=\"-290.8\" font-family=\"Helvetica,sans-Serif\" font-size=\"14.00\">风速 &lt;= 2.09</text>\r\n",
       "<text text-anchor=\"middle\" x=\"420.5\" y=\"-275.8\" font-family=\"Helvetica,sans-Serif\" font-size=\"14.00\">entropy = 0.363</text>\r\n",
       "<text text-anchor=\"middle\" x=\"420.5\" y=\"-260.8\" font-family=\"Helvetica,sans-Serif\" font-size=\"14.00\">samples = 260</text>\r\n",
       "<text text-anchor=\"middle\" x=\"420.5\" y=\"-245.8\" font-family=\"Helvetica,sans-Serif\" font-size=\"14.00\">value = [242, 18]</text>\r\n",
       "<text text-anchor=\"middle\" x=\"420.5\" y=\"-230.8\" font-family=\"Helvetica,sans-Serif\" font-size=\"14.00\">class = 逆推</text>\r\n",
       "</g>\r\n",
       "<!-- 0&#45;&gt;6 -->\r\n",
       "<g id=\"edge6\" class=\"edge\"><title>0&#45;&gt;6</title>\r\n",
       "<path fill=\"none\" stroke=\"black\" d=\"M353.235,-341.907C361.225,-332.832 369.774,-323.121 378.006,-313.769\"/>\r\n",
       "<polygon fill=\"black\" stroke=\"black\" points=\"380.847,-315.839 384.828,-306.021 375.593,-311.214 380.847,-315.839\"/>\r\n",
       "<text text-anchor=\"middle\" x=\"386.416\" y=\"-327.27\" font-family=\"Helvetica,sans-Serif\" font-size=\"14.00\">False</text>\r\n",
       "</g>\r\n",
       "<!-- 2 -->\r\n",
       "<g id=\"node3\" class=\"node\"><title>2</title>\r\n",
       "<path fill=\"#399de5\" stroke=\"black\" d=\"M101,-179.5C101,-179.5 12,-179.5 12,-179.5 6,-179.5 0,-173.5 0,-167.5 0,-167.5 0,-123.5 0,-123.5 0,-117.5 6,-111.5 12,-111.5 12,-111.5 101,-111.5 101,-111.5 107,-111.5 113,-117.5 113,-123.5 113,-123.5 113,-167.5 113,-167.5 113,-173.5 107,-179.5 101,-179.5\"/>\r\n",
       "<text text-anchor=\"middle\" x=\"56.5\" y=\"-164.3\" font-family=\"Helvetica,sans-Serif\" font-size=\"14.00\">entropy = 0.0</text>\r\n",
       "<text text-anchor=\"middle\" x=\"56.5\" y=\"-149.3\" font-family=\"Helvetica,sans-Serif\" font-size=\"14.00\">samples = 401</text>\r\n",
       "<text text-anchor=\"middle\" x=\"56.5\" y=\"-134.3\" font-family=\"Helvetica,sans-Serif\" font-size=\"14.00\">value = [0, 401]</text>\r\n",
       "<text text-anchor=\"middle\" x=\"56.5\" y=\"-119.3\" font-family=\"Helvetica,sans-Serif\" font-size=\"14.00\">class = 不逆推</text>\r\n",
       "</g>\r\n",
       "<!-- 1&#45;&gt;2 -->\r\n",
       "<g id=\"edge2\" class=\"edge\"><title>1&#45;&gt;2</title>\r\n",
       "<path fill=\"none\" stroke=\"black\" d=\"M159.683,-222.907C143.44,-210.88 125.689,-197.735 109.559,-185.791\"/>\r\n",
       "<polygon fill=\"black\" stroke=\"black\" points=\"111.409,-182.805 101.29,-179.667 107.243,-188.431 111.409,-182.805\"/>\r\n",
       "</g>\r\n",
       "<!-- 3 -->\r\n",
       "<g id=\"node4\" class=\"node\"><title>3</title>\r\n",
       "<path fill=\"#399de5\" fill-opacity=\"0.854902\" stroke=\"black\" d=\"M285.5,-187C285.5,-187 143.5,-187 143.5,-187 137.5,-187 131.5,-181 131.5,-175 131.5,-175 131.5,-116 131.5,-116 131.5,-110 137.5,-104 143.5,-104 143.5,-104 285.5,-104 285.5,-104 291.5,-104 297.5,-110 297.5,-116 297.5,-116 297.5,-175 297.5,-175 297.5,-181 291.5,-187 285.5,-187\"/>\r\n",
       "<text text-anchor=\"middle\" x=\"214.5\" y=\"-171.8\" font-family=\"Helvetica,sans-Serif\" font-size=\"14.00\">热释放速率 &lt;= 7304.378</text>\r\n",
       "<text text-anchor=\"middle\" x=\"214.5\" y=\"-156.8\" font-family=\"Helvetica,sans-Serif\" font-size=\"14.00\">entropy = 0.552</text>\r\n",
       "<text text-anchor=\"middle\" x=\"214.5\" y=\"-141.8\" font-family=\"Helvetica,sans-Serif\" font-size=\"14.00\">samples = 39</text>\r\n",
       "<text text-anchor=\"middle\" x=\"214.5\" y=\"-126.8\" font-family=\"Helvetica,sans-Serif\" font-size=\"14.00\">value = [5, 34]</text>\r\n",
       "<text text-anchor=\"middle\" x=\"214.5\" y=\"-111.8\" font-family=\"Helvetica,sans-Serif\" font-size=\"14.00\">class = 不逆推</text>\r\n",
       "</g>\r\n",
       "<!-- 1&#45;&gt;3 -->\r\n",
       "<g id=\"edge3\" class=\"edge\"><title>1&#45;&gt;3</title>\r\n",
       "<path fill=\"none\" stroke=\"black\" d=\"M214.5,-222.907C214.5,-214.649 214.5,-205.864 214.5,-197.302\"/>\r\n",
       "<polygon fill=\"black\" stroke=\"black\" points=\"218,-197.021 214.5,-187.021 211,-197.021 218,-197.021\"/>\r\n",
       "</g>\r\n",
       "<!-- 4 -->\r\n",
       "<g id=\"node5\" class=\"node\"><title>4</title>\r\n",
       "<path fill=\"#e58139\" fill-opacity=\"0.800000\" stroke=\"black\" d=\"M131.5,-68C131.5,-68 47.5,-68 47.5,-68 41.5,-68 35.5,-62 35.5,-56 35.5,-56 35.5,-12 35.5,-12 35.5,-6 41.5,-0 47.5,-0 47.5,-0 131.5,-0 131.5,-0 137.5,-0 143.5,-6 143.5,-12 143.5,-12 143.5,-56 143.5,-56 143.5,-62 137.5,-68 131.5,-68\"/>\r\n",
       "<text text-anchor=\"middle\" x=\"89.5\" y=\"-52.8\" font-family=\"Helvetica,sans-Serif\" font-size=\"14.00\">entropy = 0.65</text>\r\n",
       "<text text-anchor=\"middle\" x=\"89.5\" y=\"-37.8\" font-family=\"Helvetica,sans-Serif\" font-size=\"14.00\">samples = 6</text>\r\n",
       "<text text-anchor=\"middle\" x=\"89.5\" y=\"-22.8\" font-family=\"Helvetica,sans-Serif\" font-size=\"14.00\">value = [5, 1]</text>\r\n",
       "<text text-anchor=\"middle\" x=\"89.5\" y=\"-7.8\" font-family=\"Helvetica,sans-Serif\" font-size=\"14.00\">class = 逆推</text>\r\n",
       "</g>\r\n",
       "<!-- 3&#45;&gt;4 -->\r\n",
       "<g id=\"edge4\" class=\"edge\"><title>3&#45;&gt;4</title>\r\n",
       "<path fill=\"none\" stroke=\"black\" d=\"M167.955,-103.726C157.23,-94.3318 145.834,-84.349 135.149,-74.9883\"/>\r\n",
       "<polygon fill=\"black\" stroke=\"black\" points=\"137.342,-72.2562 127.513,-68.2996 132.729,-77.5217 137.342,-72.2562\"/>\r\n",
       "</g>\r\n",
       "<!-- 5 -->\r\n",
       "<g id=\"node6\" class=\"node\"><title>5</title>\r\n",
       "<path fill=\"#399de5\" stroke=\"black\" d=\"M255,-68C255,-68 174,-68 174,-68 168,-68 162,-62 162,-56 162,-56 162,-12 162,-12 162,-6 168,-0 174,-0 174,-0 255,-0 255,-0 261,-0 267,-6 267,-12 267,-12 267,-56 267,-56 267,-62 261,-68 255,-68\"/>\r\n",
       "<text text-anchor=\"middle\" x=\"214.5\" y=\"-52.8\" font-family=\"Helvetica,sans-Serif\" font-size=\"14.00\">entropy = 0.0</text>\r\n",
       "<text text-anchor=\"middle\" x=\"214.5\" y=\"-37.8\" font-family=\"Helvetica,sans-Serif\" font-size=\"14.00\">samples = 33</text>\r\n",
       "<text text-anchor=\"middle\" x=\"214.5\" y=\"-22.8\" font-family=\"Helvetica,sans-Serif\" font-size=\"14.00\">value = [0, 33]</text>\r\n",
       "<text text-anchor=\"middle\" x=\"214.5\" y=\"-7.8\" font-family=\"Helvetica,sans-Serif\" font-size=\"14.00\">class = 不逆推</text>\r\n",
       "</g>\r\n",
       "<!-- 3&#45;&gt;5 -->\r\n",
       "<g id=\"edge5\" class=\"edge\"><title>3&#45;&gt;5</title>\r\n",
       "<path fill=\"none\" stroke=\"black\" d=\"M214.5,-103.726C214.5,-95.5175 214.5,-86.8595 214.5,-78.56\"/>\r\n",
       "<polygon fill=\"black\" stroke=\"black\" points=\"218,-78.2996 214.5,-68.2996 211,-78.2996 218,-78.2996\"/>\r\n",
       "</g>\r\n",
       "<!-- 7 -->\r\n",
       "<g id=\"node8\" class=\"node\"><title>7</title>\r\n",
       "<path fill=\"#e58139\" fill-opacity=\"0.321569\" stroke=\"black\" d=\"M491.5,-187C491.5,-187 349.5,-187 349.5,-187 343.5,-187 337.5,-181 337.5,-175 337.5,-175 337.5,-116 337.5,-116 337.5,-110 343.5,-104 349.5,-104 349.5,-104 491.5,-104 491.5,-104 497.5,-104 503.5,-110 503.5,-116 503.5,-116 503.5,-175 503.5,-175 503.5,-181 497.5,-187 491.5,-187\"/>\r\n",
       "<text text-anchor=\"middle\" x=\"420.5\" y=\"-171.8\" font-family=\"Helvetica,sans-Serif\" font-size=\"14.00\">热释放速率 &lt;= 9909.976</text>\r\n",
       "<text text-anchor=\"middle\" x=\"420.5\" y=\"-156.8\" font-family=\"Helvetica,sans-Serif\" font-size=\"14.00\">entropy = 0.974</text>\r\n",
       "<text text-anchor=\"middle\" x=\"420.5\" y=\"-141.8\" font-family=\"Helvetica,sans-Serif\" font-size=\"14.00\">samples = 42</text>\r\n",
       "<text text-anchor=\"middle\" x=\"420.5\" y=\"-126.8\" font-family=\"Helvetica,sans-Serif\" font-size=\"14.00\">value = [25, 17]</text>\r\n",
       "<text text-anchor=\"middle\" x=\"420.5\" y=\"-111.8\" font-family=\"Helvetica,sans-Serif\" font-size=\"14.00\">class = 逆推</text>\r\n",
       "</g>\r\n",
       "<!-- 6&#45;&gt;7 -->\r\n",
       "<g id=\"edge7\" class=\"edge\"><title>6&#45;&gt;7</title>\r\n",
       "<path fill=\"none\" stroke=\"black\" d=\"M420.5,-222.907C420.5,-214.649 420.5,-205.864 420.5,-197.302\"/>\r\n",
       "<polygon fill=\"black\" stroke=\"black\" points=\"424,-197.021 420.5,-187.021 417,-197.021 424,-197.021\"/>\r\n",
       "</g>\r\n",
       "<!-- 10 -->\r\n",
       "<g id=\"node11\" class=\"node\"><title>10</title>\r\n",
       "<path fill=\"#e58139\" fill-opacity=\"0.996078\" stroke=\"black\" d=\"M647.5,-187C647.5,-187 555.5,-187 555.5,-187 549.5,-187 543.5,-181 543.5,-175 543.5,-175 543.5,-116 543.5,-116 543.5,-110 549.5,-104 555.5,-104 555.5,-104 647.5,-104 647.5,-104 653.5,-104 659.5,-110 659.5,-116 659.5,-116 659.5,-175 659.5,-175 659.5,-181 653.5,-187 647.5,-187\"/>\r\n",
       "<text text-anchor=\"middle\" x=\"601.5\" y=\"-171.8\" font-family=\"Helvetica,sans-Serif\" font-size=\"14.00\">温度 &lt;= 10.812</text>\r\n",
       "<text text-anchor=\"middle\" x=\"601.5\" y=\"-156.8\" font-family=\"Helvetica,sans-Serif\" font-size=\"14.00\">entropy = 0.042</text>\r\n",
       "<text text-anchor=\"middle\" x=\"601.5\" y=\"-141.8\" font-family=\"Helvetica,sans-Serif\" font-size=\"14.00\">samples = 218</text>\r\n",
       "<text text-anchor=\"middle\" x=\"601.5\" y=\"-126.8\" font-family=\"Helvetica,sans-Serif\" font-size=\"14.00\">value = [217, 1]</text>\r\n",
       "<text text-anchor=\"middle\" x=\"601.5\" y=\"-111.8\" font-family=\"Helvetica,sans-Serif\" font-size=\"14.00\">class = 逆推</text>\r\n",
       "</g>\r\n",
       "<!-- 6&#45;&gt;10 -->\r\n",
       "<g id=\"edge10\" class=\"edge\"><title>6&#45;&gt;10</title>\r\n",
       "<path fill=\"none\" stroke=\"black\" d=\"M481.526,-224.052C498.724,-212.935 517.517,-200.787 535.018,-189.475\"/>\r\n",
       "<polygon fill=\"black\" stroke=\"black\" points=\"536.995,-192.364 543.493,-183.996 533.195,-186.486 536.995,-192.364\"/>\r\n",
       "</g>\r\n",
       "<!-- 8 -->\r\n",
       "<g id=\"node9\" class=\"node\"><title>8</title>\r\n",
       "<path fill=\"#e58139\" fill-opacity=\"0.921569\" stroke=\"black\" d=\"M389.5,-68C389.5,-68 297.5,-68 297.5,-68 291.5,-68 285.5,-62 285.5,-56 285.5,-56 285.5,-12 285.5,-12 285.5,-6 291.5,-0 297.5,-0 297.5,-0 389.5,-0 389.5,-0 395.5,-0 401.5,-6 401.5,-12 401.5,-12 401.5,-56 401.5,-56 401.5,-62 395.5,-68 389.5,-68\"/>\r\n",
       "<text text-anchor=\"middle\" x=\"343.5\" y=\"-52.8\" font-family=\"Helvetica,sans-Serif\" font-size=\"14.00\">entropy = 0.381</text>\r\n",
       "<text text-anchor=\"middle\" x=\"343.5\" y=\"-37.8\" font-family=\"Helvetica,sans-Serif\" font-size=\"14.00\">samples = 27</text>\r\n",
       "<text text-anchor=\"middle\" x=\"343.5\" y=\"-22.8\" font-family=\"Helvetica,sans-Serif\" font-size=\"14.00\">value = [25, 2]</text>\r\n",
       "<text text-anchor=\"middle\" x=\"343.5\" y=\"-7.8\" font-family=\"Helvetica,sans-Serif\" font-size=\"14.00\">class = 逆推</text>\r\n",
       "</g>\r\n",
       "<!-- 7&#45;&gt;8 -->\r\n",
       "<g id=\"edge8\" class=\"edge\"><title>7&#45;&gt;8</title>\r\n",
       "<path fill=\"none\" stroke=\"black\" d=\"M391.828,-103.726C385.607,-94.879 379.018,-85.51 372.774,-76.6303\"/>\r\n",
       "<polygon fill=\"black\" stroke=\"black\" points=\"375.531,-74.4664 366.916,-68.2996 369.805,-78.4929 375.531,-74.4664\"/>\r\n",
       "</g>\r\n",
       "<!-- 9 -->\r\n",
       "<g id=\"node10\" class=\"node\"><title>9</title>\r\n",
       "<path fill=\"#399de5\" stroke=\"black\" d=\"M513,-68C513,-68 432,-68 432,-68 426,-68 420,-62 420,-56 420,-56 420,-12 420,-12 420,-6 426,-0 432,-0 432,-0 513,-0 513,-0 519,-0 525,-6 525,-12 525,-12 525,-56 525,-56 525,-62 519,-68 513,-68\"/>\r\n",
       "<text text-anchor=\"middle\" x=\"472.5\" y=\"-52.8\" font-family=\"Helvetica,sans-Serif\" font-size=\"14.00\">entropy = 0.0</text>\r\n",
       "<text text-anchor=\"middle\" x=\"472.5\" y=\"-37.8\" font-family=\"Helvetica,sans-Serif\" font-size=\"14.00\">samples = 15</text>\r\n",
       "<text text-anchor=\"middle\" x=\"472.5\" y=\"-22.8\" font-family=\"Helvetica,sans-Serif\" font-size=\"14.00\">value = [0, 15]</text>\r\n",
       "<text text-anchor=\"middle\" x=\"472.5\" y=\"-7.8\" font-family=\"Helvetica,sans-Serif\" font-size=\"14.00\">class = 不逆推</text>\r\n",
       "</g>\r\n",
       "<!-- 7&#45;&gt;9 -->\r\n",
       "<g id=\"edge9\" class=\"edge\"><title>7&#45;&gt;9</title>\r\n",
       "<path fill=\"none\" stroke=\"black\" d=\"M439.863,-103.726C443.934,-95.1527 448.239,-86.0891 452.338,-77.4555\"/>\r\n",
       "<polygon fill=\"black\" stroke=\"black\" points=\"455.558,-78.8342 456.686,-68.2996 449.235,-75.8314 455.558,-78.8342\"/>\r\n",
       "</g>\r\n",
       "<!-- 11 -->\r\n",
       "<g id=\"node12\" class=\"node\"><title>11</title>\r\n",
       "<path fill=\"#e58139\" fill-opacity=\"0.917647\" stroke=\"black\" d=\"M647.5,-68C647.5,-68 555.5,-68 555.5,-68 549.5,-68 543.5,-62 543.5,-56 543.5,-56 543.5,-12 543.5,-12 543.5,-6 549.5,-0 555.5,-0 555.5,-0 647.5,-0 647.5,-0 653.5,-0 659.5,-6 659.5,-12 659.5,-12 659.5,-56 659.5,-56 659.5,-62 653.5,-68 647.5,-68\"/>\r\n",
       "<text text-anchor=\"middle\" x=\"601.5\" y=\"-52.8\" font-family=\"Helvetica,sans-Serif\" font-size=\"14.00\">entropy = 0.391</text>\r\n",
       "<text text-anchor=\"middle\" x=\"601.5\" y=\"-37.8\" font-family=\"Helvetica,sans-Serif\" font-size=\"14.00\">samples = 13</text>\r\n",
       "<text text-anchor=\"middle\" x=\"601.5\" y=\"-22.8\" font-family=\"Helvetica,sans-Serif\" font-size=\"14.00\">value = [12, 1]</text>\r\n",
       "<text text-anchor=\"middle\" x=\"601.5\" y=\"-7.8\" font-family=\"Helvetica,sans-Serif\" font-size=\"14.00\">class = 逆推</text>\r\n",
       "</g>\r\n",
       "<!-- 10&#45;&gt;11 -->\r\n",
       "<g id=\"edge11\" class=\"edge\"><title>10&#45;&gt;11</title>\r\n",
       "<path fill=\"none\" stroke=\"black\" d=\"M601.5,-103.726C601.5,-95.5175 601.5,-86.8595 601.5,-78.56\"/>\r\n",
       "<polygon fill=\"black\" stroke=\"black\" points=\"605,-78.2996 601.5,-68.2996 598,-78.2996 605,-78.2996\"/>\r\n",
       "</g>\r\n",
       "<!-- 12 -->\r\n",
       "<g id=\"node13\" class=\"node\"><title>12</title>\r\n",
       "<path fill=\"#e58139\" stroke=\"black\" d=\"M779,-68C779,-68 690,-68 690,-68 684,-68 678,-62 678,-56 678,-56 678,-12 678,-12 678,-6 684,-0 690,-0 690,-0 779,-0 779,-0 785,-0 791,-6 791,-12 791,-12 791,-56 791,-56 791,-62 785,-68 779,-68\"/>\r\n",
       "<text text-anchor=\"middle\" x=\"734.5\" y=\"-52.8\" font-family=\"Helvetica,sans-Serif\" font-size=\"14.00\">entropy = 0.0</text>\r\n",
       "<text text-anchor=\"middle\" x=\"734.5\" y=\"-37.8\" font-family=\"Helvetica,sans-Serif\" font-size=\"14.00\">samples = 205</text>\r\n",
       "<text text-anchor=\"middle\" x=\"734.5\" y=\"-22.8\" font-family=\"Helvetica,sans-Serif\" font-size=\"14.00\">value = [205, 0]</text>\r\n",
       "<text text-anchor=\"middle\" x=\"734.5\" y=\"-7.8\" font-family=\"Helvetica,sans-Serif\" font-size=\"14.00\">class = 逆推</text>\r\n",
       "</g>\r\n",
       "<!-- 10&#45;&gt;12 -->\r\n",
       "<g id=\"edge12\" class=\"edge\"><title>10&#45;&gt;12</title>\r\n",
       "<path fill=\"none\" stroke=\"black\" d=\"M651.024,-103.726C662.546,-94.2406 674.796,-84.1551 686.261,-74.7159\"/>\r\n",
       "<polygon fill=\"black\" stroke=\"black\" points=\"688.558,-77.3577 694.054,-68.2996 684.109,-71.9536 688.558,-77.3577\"/>\r\n",
       "</g>\r\n",
       "</g>\r\n",
       "</svg>\r\n"
      ],
      "text/plain": [
       "<graphviz.files.Source at 0x2667f7742e8>"
      ]
     },
     "execution_count": 12,
     "metadata": {},
     "output_type": "execute_result"
    }
   ],
   "source": [
    "clf = DecisionTreeClassifier(random_state=25, max_depth=3, criterion=\"entropy\")\n",
    "clf = clf.fit(Xtrain, Ytrain)\n",
    "score_ = clf.score(Xtest, Ytest)\n",
    "\n",
    "feature_name = ['V','T','HRR']\n",
    "\n",
    "import graphviz\n",
    "dot_data = tree.export_graphviz(clf, out_file = None\n",
    "                                ,feature_names = feature_name\n",
    "                                ,class_names=[\"BACKFLOW\",\"NON-BACKFLOW\"]\n",
    "                                ,filled=True\n",
    "                                ,rounded=True\n",
    "                               ) \n",
    "graph = graphviz.Source(dot_data)\n",
    "graph"
   ]
  },
  {
   "cell_type": "code",
   "execution_count": 28,
   "metadata": {},
   "outputs": [
    {
     "name": "stderr",
     "output_type": "stream",
     "text": [
      "D:\\Users\\DELL\\Anaconda3\\lib\\site-packages\\sklearn\\model_selection\\_search.py:841: DeprecationWarning: The default of the `iid` parameter will change from True to False in version 0.22 and will be removed in 0.24. This will change numeric results when test-set sizes are unequal.\n",
      "  DeprecationWarning)\n"
     ]
    },
    {
     "data": {
      "text/plain": [
       "0.9842857142857143"
      ]
     },
     "execution_count": 28,
     "metadata": {},
     "output_type": "execute_result"
    }
   ],
   "source": [
    "import numpy as np\n",
    "gini_thresholds = np.linspace(0,0.5,20)\n",
    "\n",
    "parameters = {'splitter':('best','random')\n",
    "              ,'criterion':(\"gini\",\"entropy\")\n",
    "              ,\"max_depth\":[*range(1,10)]\n",
    "              ,'min_samples_leaf':[*range(1,50,5)]\n",
    "              ,'min_impurity_decrease':[*np.linspace(0,0.5,20)]\n",
    "             }\n",
    "\n",
    "clf = DecisionTreeClassifier(random_state=25)\n",
    "GS = GridSearchCV(clf, parameters, cv=10)\n",
    "GS.fit(Xtrain,Ytrain)\n",
    "\n",
    "GS.best_params_\n",
    "\n",
    "GS.best_score_"
   ]
  },
  {
   "cell_type": "code",
   "execution_count": 1,
   "metadata": {},
   "outputs": [
    {
     "ename": "NameError",
     "evalue": "name 'GS' is not defined",
     "output_type": "error",
     "traceback": [
      "\u001b[1;31m---------------------------------------------------------------------------\u001b[0m",
      "\u001b[1;31mNameError\u001b[0m                                 Traceback (most recent call last)",
      "\u001b[1;32m<ipython-input-1-3ec700e16f24>\u001b[0m in \u001b[0;36m<module>\u001b[1;34m()\u001b[0m\n\u001b[1;32m----> 1\u001b[1;33m \u001b[0mGS\u001b[0m\u001b[1;33m.\u001b[0m\u001b[0mbest_params_\u001b[0m\u001b[1;33m\u001b[0m\u001b[0m\n\u001b[0m",
      "\u001b[1;31mNameError\u001b[0m: name 'GS' is not defined"
     ]
    }
   ],
   "source": [
    "GS.best_params_"
   ]
  },
  {
   "cell_type": "markdown",
   "metadata": {},
   "source": [
    "## Regression of CART"
   ]
  },
  {
   "cell_type": "code",
   "execution_count": 1,
   "metadata": {},
   "outputs": [],
   "source": [
    "import pandas as pd\n",
    "from sklearn import tree\n",
    "from sklearn.tree import DecisionTreeClassifier\n",
    "from sklearn.tree import DecisionTreeRegressor\n",
    "from sklearn.model_selection import train_test_split\n",
    "from sklearn.model_selection import GridSearchCV\n",
    "from sklearn.model_selection import cross_val_score\n",
    "import matplotlib.pyplot as plt"
   ]
  },
  {
   "cell_type": "code",
   "execution_count": 2,
   "metadata": {},
   "outputs": [
    {
     "data": {
      "text/html": [
       "<div>\n",
       "<style scoped>\n",
       "    .dataframe tbody tr th:only-of-type {\n",
       "        vertical-align: middle;\n",
       "    }\n",
       "\n",
       "    .dataframe tbody tr th {\n",
       "        vertical-align: top;\n",
       "    }\n",
       "\n",
       "    .dataframe thead th {\n",
       "        text-align: right;\n",
       "    }\n",
       "</style>\n",
       "<table border=\"1\" class=\"dataframe\">\n",
       "  <thead>\n",
       "    <tr style=\"text-align: right;\">\n",
       "      <th></th>\n",
       "      <th>V</th>\n",
       "      <th>T</th>\n",
       "      <th>HRR</th>\n",
       "      <th>BackDistance</th>\n",
       "    </tr>\n",
       "    <tr>\n",
       "      <th>Id</th>\n",
       "      <th></th>\n",
       "      <th></th>\n",
       "      <th></th>\n",
       "      <th></th>\n",
       "    </tr>\n",
       "  </thead>\n",
       "  <tbody>\n",
       "    <tr>\n",
       "      <th>1</th>\n",
       "      <td>2.7486</td>\n",
       "      <td>16.8125</td>\n",
       "      <td>5578.8956</td>\n",
       "      <td>8.519</td>\n",
       "    </tr>\n",
       "    <tr>\n",
       "      <th>2</th>\n",
       "      <td>1.1585</td>\n",
       "      <td>12.8702</td>\n",
       "      <td>9768.1077</td>\n",
       "      <td>22.687</td>\n",
       "    </tr>\n",
       "    <tr>\n",
       "      <th>3</th>\n",
       "      <td>1.0696</td>\n",
       "      <td>23.5542</td>\n",
       "      <td>11833.7440</td>\n",
       "      <td>23.588</td>\n",
       "    </tr>\n",
       "    <tr>\n",
       "      <th>4</th>\n",
       "      <td>2.3904</td>\n",
       "      <td>14.4162</td>\n",
       "      <td>7735.6189</td>\n",
       "      <td>9.991</td>\n",
       "    </tr>\n",
       "    <tr>\n",
       "      <th>5</th>\n",
       "      <td>0.5358</td>\n",
       "      <td>14.7729</td>\n",
       "      <td>11367.2940</td>\n",
       "      <td>28.385</td>\n",
       "    </tr>\n",
       "  </tbody>\n",
       "</table>\n",
       "</div>"
      ],
      "text/plain": [
       "         V        T         HRR  BackDistance\n",
       "Id                                           \n",
       "1   2.7486  16.8125   5578.8956         8.519\n",
       "2   1.1585  12.8702   9768.1077        22.687\n",
       "3   1.0696  23.5542  11833.7440        23.588\n",
       "4   2.3904  14.4162   7735.6189         9.991\n",
       "5   0.5358  14.7729  11367.2940        28.385"
      ]
     },
     "execution_count": 2,
     "metadata": {},
     "output_type": "execute_result"
    }
   ],
   "source": [
    "data = pd.read_csv(r\"C:\\Users\\DELL\\Desktop\\Fire_Data\\val_cross.csv\"\n",
    "                   ,index_col = 0  \n",
    "                  )\n",
    "data.head()\n",
    "#data[\"BackDistance\"]=(data[\"BackDistance\"]>= 15).astype(\"int\")\n",
    "data[\"BackDistance\"]\n",
    "data.head()\n",
    "#type(data)\n",
    "#data = data.sort_values('V').reset_index(drop = True)\n",
    "#.drop('Id')\n",
    "data.head()"
   ]
  },
  {
   "cell_type": "code",
   "execution_count": 3,
   "metadata": {},
   "outputs": [
    {
     "data": {
      "text/plain": [
       "((1000, 3), (1000, 1))"
      ]
     },
     "execution_count": 3,
     "metadata": {},
     "output_type": "execute_result"
    }
   ],
   "source": [
    "X = data.iloc[:,data.columns != \"BackDistance\"]\n",
    "y = data.iloc[:,data.columns == \"BackDistance\"]\n",
    "X.shape, y.shape"
   ]
  },
  {
   "cell_type": "code",
   "execution_count": 4,
   "metadata": {},
   "outputs": [
    {
     "data": {
      "text/html": [
       "<div>\n",
       "<style scoped>\n",
       "    .dataframe tbody tr th:only-of-type {\n",
       "        vertical-align: middle;\n",
       "    }\n",
       "\n",
       "    .dataframe tbody tr th {\n",
       "        vertical-align: top;\n",
       "    }\n",
       "\n",
       "    .dataframe thead th {\n",
       "        text-align: right;\n",
       "    }\n",
       "</style>\n",
       "<table border=\"1\" class=\"dataframe\">\n",
       "  <thead>\n",
       "    <tr style=\"text-align: right;\">\n",
       "      <th></th>\n",
       "      <th>V</th>\n",
       "      <th>T</th>\n",
       "      <th>HRR</th>\n",
       "    </tr>\n",
       "  </thead>\n",
       "  <tbody>\n",
       "    <tr>\n",
       "      <th>0</th>\n",
       "      <td>1.7060</td>\n",
       "      <td>17.7325</td>\n",
       "      <td>13556.6620</td>\n",
       "    </tr>\n",
       "    <tr>\n",
       "      <th>1</th>\n",
       "      <td>2.2371</td>\n",
       "      <td>11.1433</td>\n",
       "      <td>13045.4580</td>\n",
       "    </tr>\n",
       "    <tr>\n",
       "      <th>2</th>\n",
       "      <td>2.3274</td>\n",
       "      <td>21.8171</td>\n",
       "      <td>14894.7270</td>\n",
       "    </tr>\n",
       "    <tr>\n",
       "      <th>3</th>\n",
       "      <td>1.0299</td>\n",
       "      <td>14.6833</td>\n",
       "      <td>6544.0019</td>\n",
       "    </tr>\n",
       "    <tr>\n",
       "      <th>4</th>\n",
       "      <td>2.2076</td>\n",
       "      <td>16.1504</td>\n",
       "      <td>13880.0520</td>\n",
       "    </tr>\n",
       "  </tbody>\n",
       "</table>\n",
       "</div>"
      ],
      "text/plain": [
       "        V        T         HRR\n",
       "0  1.7060  17.7325  13556.6620\n",
       "1  2.2371  11.1433  13045.4580\n",
       "2  2.3274  21.8171  14894.7270\n",
       "3  1.0299  14.6833   6544.0019\n",
       "4  2.2076  16.1504  13880.0520"
      ]
     },
     "execution_count": 4,
     "metadata": {},
     "output_type": "execute_result"
    }
   ],
   "source": [
    "from sklearn.model_selection import train_test_split\n",
    "Xtrain, Xtest, Ytrain, Ytest = train_test_split(X,y,test_size=0.3)\n",
    "#modify the index\n",
    "Xtrain.head()\n",
    "[Xtrain, Xtest, Ytrain, Ytest]\n",
    "for i in [Xtrain, Xtest, Ytrain, Ytest]:\n",
    "    i.index = range(i.shape[0])\n",
    "    \n",
    "#viwe the data\n",
    "a = pd.concat([Xtest,Ytest],axis = 1)\n",
    "a = a.sort_values('V').reset_index(drop = True)\n",
    "Xtest = a.iloc[:,data.columns != \"BackDistance\"]\n",
    "Ytest = a.iloc[:,data.columns == \"BackDistance\"]\n",
    "Xtrain.head()"
   ]
  },
  {
   "cell_type": "code",
   "execution_count": 5,
   "metadata": {},
   "outputs": [
    {
     "data": {
      "text/plain": [
       "0.9760887330117564"
      ]
     },
     "execution_count": 5,
     "metadata": {},
     "output_type": "execute_result"
    }
   ],
   "source": [
    "clf = DecisionTreeRegressor(random_state=25)\n",
    "clf = clf.fit(Xtrain, Ytrain)\n",
    "score_ = clf.score(Xtest, Ytest)\n",
    "\n",
    "score_\n",
    "\n",
    "score = cross_val_score(clf,X,y,cv=10).mean()\n",
    "\n",
    "score"
   ]
  },
  {
   "cell_type": "code",
   "execution_count": 6,
   "metadata": {},
   "outputs": [
    {
     "name": "stdout",
     "output_type": "stream",
     "text": [
      "0.981071113119882\n"
     ]
    },
    {
     "data": {
      "image/png": "[encoded data removed]",
      "text/plain": [
       "<Figure size 432x288 with 1 Axes>"
      ]
     },
     "metadata": {
      "needs_background": "light"
     },
     "output_type": "display_data"
    }
   ],
   "source": [
    "tr = []\n",
    "te = []\n",
    "for i in range(10):\n",
    "    clf = DecisionTreeRegressor( presort = True\n",
    "                                 ,random_state=25\n",
    "                                 ,max_depth=i+1\n",
    "                                 ,criterion=\"mse\"\n",
    "                                )\n",
    "    clf = clf.fit(Xtrain, Ytrain)\n",
    "    score_tr = clf.score(Xtrain,Ytrain)\n",
    "    score_te = cross_val_score(clf,X,y,cv=10).mean()\n",
    "    tr.append(score_tr)\n",
    "    te.append(score_te)\n",
    "print(max(te))\n",
    "plt.plot(range(1,11),tr,color=\"red\",label=\"train\")\n",
    "plt.plot(range(1,11),te,color=\"blue\",label=\"test\")\n",
    "plt.xticks(range(1,11))\n",
    "plt.legend()\n",
    "plt.show()"
   ]
  },
  {
   "cell_type": "code",
   "execution_count": 7,
   "metadata": {},
   "outputs": [
    {
     "data": {
      "image/svg+xml": [
       "<?xml version=\"1.0\" encoding=\"UTF-8\" standalone=\"no\"?>\r\n",
       "<!DOCTYPE svg PUBLIC \"-//W3C//DTD SVG 1.1//EN\"\r\n",
       " \"http://www.w3.org/Graphics/SVG/1.1/DTD/svg11.dtd\">\r\n",
       "<!-- Generated by graphviz version 2.38.0 (20140413.2041)\r\n",
       " -->\r\n",
       "<!-- Title: Tree Pages: 1 -->\r\n",
       "<svg width=\"1017pt\" height=\"373pt\"\r\n",
       " viewBox=\"0.00 0.00 1017.00 373.00\" xmlns=\"http://www.w3.org/2000/svg\" xmlns:xlink=\"http://www.w3.org/1999/xlink\">\r\n",
       "<g id=\"graph0\" class=\"graph\" transform=\"scale(1 1) rotate(0) translate(4 369)\">\r\n",
       "<title>Tree</title>\r\n",
       "<polygon fill=\"white\" stroke=\"none\" points=\"-4,4 -4,-369 1013,-369 1013,4 -4,4\"/>\r\n",
       "<!-- 0 -->\r\n",
       "<g id=\"node1\" class=\"node\"><title>0</title>\r\n",
       "<path fill=\"#e58139\" fill-opacity=\"0.482353\" stroke=\"black\" d=\"M548,-365C548,-365 461,-365 461,-365 455,-365 449,-359 449,-353 449,-353 449,-309 449,-309 449,-303 455,-297 461,-297 461,-297 548,-297 548,-297 554,-297 560,-303 560,-309 560,-309 560,-353 560,-353 560,-359 554,-365 548,-365\"/>\r\n",
       "<text text-anchor=\"middle\" x=\"504.5\" y=\"-349.8\" font-family=\"Helvetica,sans-Serif\" font-size=\"14.00\">风速 &lt;= 1.557</text>\r\n",
       "<text text-anchor=\"middle\" x=\"504.5\" y=\"-334.8\" font-family=\"Helvetica,sans-Serif\" font-size=\"14.00\">mse = 47.716</text>\r\n",
       "<text text-anchor=\"middle\" x=\"504.5\" y=\"-319.8\" font-family=\"Helvetica,sans-Serif\" font-size=\"14.00\">samples = 700</text>\r\n",
       "<text text-anchor=\"middle\" x=\"504.5\" y=\"-304.8\" font-family=\"Helvetica,sans-Serif\" font-size=\"14.00\">value = 18.778</text>\r\n",
       "</g>\r\n",
       "<!-- 1 -->\r\n",
       "<g id=\"node2\" class=\"node\"><title>1</title>\r\n",
       "<path fill=\"#e58139\" fill-opacity=\"0.792157\" stroke=\"black\" d=\"M452,-261C452,-261 365,-261 365,-261 359,-261 353,-255 353,-249 353,-249 353,-205 353,-205 353,-199 359,-193 365,-193 365,-193 452,-193 452,-193 458,-193 464,-199 464,-205 464,-205 464,-249 464,-249 464,-255 458,-261 452,-261\"/>\r\n",
       "<text text-anchor=\"middle\" x=\"408.5\" y=\"-245.8\" font-family=\"Helvetica,sans-Serif\" font-size=\"14.00\">风速 &lt;= 0.961</text>\r\n",
       "<text text-anchor=\"middle\" x=\"408.5\" y=\"-230.8\" font-family=\"Helvetica,sans-Serif\" font-size=\"14.00\">mse = 12.666</text>\r\n",
       "<text text-anchor=\"middle\" x=\"408.5\" y=\"-215.8\" font-family=\"Helvetica,sans-Serif\" font-size=\"14.00\">samples = 354</text>\r\n",
       "<text text-anchor=\"middle\" x=\"408.5\" y=\"-200.8\" font-family=\"Helvetica,sans-Serif\" font-size=\"14.00\">value = 24.699</text>\r\n",
       "</g>\r\n",
       "<!-- 0&#45;&gt;1 -->\r\n",
       "<g id=\"edge1\" class=\"edge\"><title>0&#45;&gt;1</title>\r\n",
       "<path fill=\"none\" stroke=\"black\" d=\"M473.332,-296.884C464.864,-287.887 455.597,-278.041 446.785,-268.678\"/>\r\n",
       "<polygon fill=\"black\" stroke=\"black\" points=\"449.243,-266.183 439.841,-261.299 444.146,-270.98 449.243,-266.183\"/>\r\n",
       "<text text-anchor=\"middle\" x=\"439.083\" y=\"-282.588\" font-family=\"Helvetica,sans-Serif\" font-size=\"14.00\">True</text>\r\n",
       "</g>\r\n",
       "<!-- 8 -->\r\n",
       "<g id=\"node9\" class=\"node\"><title>8</title>\r\n",
       "<path fill=\"#e58139\" fill-opacity=\"0.168627\" stroke=\"black\" d=\"M644,-261C644,-261 557,-261 557,-261 551,-261 545,-255 545,-249 545,-249 545,-205 545,-205 545,-199 551,-193 557,-193 557,-193 644,-193 644,-193 650,-193 656,-199 656,-205 656,-205 656,-249 656,-249 656,-255 650,-261 644,-261\"/>\r\n",
       "<text text-anchor=\"middle\" x=\"600.5\" y=\"-245.8\" font-family=\"Helvetica,sans-Serif\" font-size=\"14.00\">风速 &lt;= 2.127</text>\r\n",
       "<text text-anchor=\"middle\" x=\"600.5\" y=\"-230.8\" font-family=\"Helvetica,sans-Serif\" font-size=\"14.00\">mse = 11.022</text>\r\n",
       "<text text-anchor=\"middle\" x=\"600.5\" y=\"-215.8\" font-family=\"Helvetica,sans-Serif\" font-size=\"14.00\">samples = 346</text>\r\n",
       "<text text-anchor=\"middle\" x=\"600.5\" y=\"-200.8\" font-family=\"Helvetica,sans-Serif\" font-size=\"14.00\">value = 12.721</text>\r\n",
       "</g>\r\n",
       "<!-- 0&#45;&gt;8 -->\r\n",
       "<g id=\"edge8\" class=\"edge\"><title>0&#45;&gt;8</title>\r\n",
       "<path fill=\"none\" stroke=\"black\" d=\"M535.668,-296.884C544.136,-287.887 553.403,-278.041 562.215,-268.678\"/>\r\n",
       "<polygon fill=\"black\" stroke=\"black\" points=\"564.854,-270.98 569.159,-261.299 559.757,-266.183 564.854,-270.98\"/>\r\n",
       "<text text-anchor=\"middle\" x=\"569.917\" y=\"-282.588\" font-family=\"Helvetica,sans-Serif\" font-size=\"14.00\">False</text>\r\n",
       "</g>\r\n",
       "<!-- 2 -->\r\n",
       "<g id=\"node3\" class=\"node\"><title>2</title>\r\n",
       "<path fill=\"#e58139\" fill-opacity=\"0.941176\" stroke=\"black\" d=\"M228,-157C228,-157 141,-157 141,-157 135,-157 129,-151 129,-145 129,-145 129,-101 129,-101 129,-95 135,-89 141,-89 141,-89 228,-89 228,-89 234,-89 240,-95 240,-101 240,-101 240,-145 240,-145 240,-151 234,-157 228,-157\"/>\r\n",
       "<text text-anchor=\"middle\" x=\"184.5\" y=\"-141.8\" font-family=\"Helvetica,sans-Serif\" font-size=\"14.00\">风速 &lt;= 0.625</text>\r\n",
       "<text text-anchor=\"middle\" x=\"184.5\" y=\"-126.8\" font-family=\"Helvetica,sans-Serif\" font-size=\"14.00\">mse = 3.562</text>\r\n",
       "<text text-anchor=\"middle\" x=\"184.5\" y=\"-111.8\" font-family=\"Helvetica,sans-Serif\" font-size=\"14.00\">samples = 186</text>\r\n",
       "<text text-anchor=\"middle\" x=\"184.5\" y=\"-96.8\" font-family=\"Helvetica,sans-Serif\" font-size=\"14.00\">value = 27.561</text>\r\n",
       "</g>\r\n",
       "<!-- 1&#45;&gt;2 -->\r\n",
       "<g id=\"edge2\" class=\"edge\"><title>1&#45;&gt;2</title>\r\n",
       "<path fill=\"none\" stroke=\"black\" d=\"M352.841,-200.655C321.59,-186.425 282.425,-168.591 249.737,-153.706\"/>\r\n",
       "<polygon fill=\"black\" stroke=\"black\" points=\"250.812,-150.35 240.26,-149.391 247.911,-156.72 250.812,-150.35\"/>\r\n",
       "</g>\r\n",
       "<!-- 5 -->\r\n",
       "<g id=\"node6\" class=\"node\"><title>5</title>\r\n",
       "<path fill=\"#e58139\" fill-opacity=\"0.627451\" stroke=\"black\" d=\"M452,-157C452,-157 365,-157 365,-157 359,-157 353,-151 353,-145 353,-145 353,-101 353,-101 353,-95 359,-89 365,-89 365,-89 452,-89 452,-89 458,-89 464,-95 464,-101 464,-101 464,-145 464,-145 464,-151 458,-157 452,-157\"/>\r\n",
       "<text text-anchor=\"middle\" x=\"408.5\" y=\"-141.8\" font-family=\"Helvetica,sans-Serif\" font-size=\"14.00\">风速 &lt;= 1.291</text>\r\n",
       "<text text-anchor=\"middle\" x=\"408.5\" y=\"-126.8\" font-family=\"Helvetica,sans-Serif\" font-size=\"14.00\">mse = 3.636</text>\r\n",
       "<text text-anchor=\"middle\" x=\"408.5\" y=\"-111.8\" font-family=\"Helvetica,sans-Serif\" font-size=\"14.00\">samples = 168</text>\r\n",
       "<text text-anchor=\"middle\" x=\"408.5\" y=\"-96.8\" font-family=\"Helvetica,sans-Serif\" font-size=\"14.00\">value = 21.53</text>\r\n",
       "</g>\r\n",
       "<!-- 1&#45;&gt;5 -->\r\n",
       "<g id=\"edge5\" class=\"edge\"><title>1&#45;&gt;5</title>\r\n",
       "<path fill=\"none\" stroke=\"black\" d=\"M408.5,-192.884C408.5,-184.778 408.5,-175.982 408.5,-167.472\"/>\r\n",
       "<polygon fill=\"black\" stroke=\"black\" points=\"412,-167.299 408.5,-157.299 405,-167.299 412,-167.299\"/>\r\n",
       "</g>\r\n",
       "<!-- 3 -->\r\n",
       "<g id=\"node4\" class=\"node\"><title>3</title>\r\n",
       "<path fill=\"#e58139\" stroke=\"black\" d=\"M99,-53C99,-53 12,-53 12,-53 6,-53 0,-47 0,-41 0,-41 0,-12 0,-12 0,-6 6,-0 12,-0 12,-0 99,-0 99,-0 105,-0 111,-6 111,-12 111,-12 111,-41 111,-41 111,-47 105,-53 99,-53\"/>\r\n",
       "<text text-anchor=\"middle\" x=\"55.5\" y=\"-37.8\" font-family=\"Helvetica,sans-Serif\" font-size=\"14.00\">mse = 1.21</text>\r\n",
       "<text text-anchor=\"middle\" x=\"55.5\" y=\"-22.8\" font-family=\"Helvetica,sans-Serif\" font-size=\"14.00\">samples = 115</text>\r\n",
       "<text text-anchor=\"middle\" x=\"55.5\" y=\"-7.8\" font-family=\"Helvetica,sans-Serif\" font-size=\"14.00\">value = 28.719</text>\r\n",
       "</g>\r\n",
       "<!-- 2&#45;&gt;3 -->\r\n",
       "<g id=\"edge3\" class=\"edge\"><title>2&#45;&gt;3</title>\r\n",
       "<path fill=\"none\" stroke=\"black\" d=\"M139.382,-88.9485C126.27,-79.3431 111.98,-68.8747 98.9709,-59.345\"/>\r\n",
       "<polygon fill=\"black\" stroke=\"black\" points=\"100.768,-56.3228 90.6326,-53.2367 96.6313,-61.9698 100.768,-56.3228\"/>\r\n",
       "</g>\r\n",
       "<!-- 4 -->\r\n",
       "<g id=\"node5\" class=\"node\"><title>4</title>\r\n",
       "<path fill=\"#e58139\" fill-opacity=\"0.843137\" stroke=\"black\" d=\"M227.5,-53C227.5,-53 141.5,-53 141.5,-53 135.5,-53 129.5,-47 129.5,-41 129.5,-41 129.5,-12 129.5,-12 129.5,-6 135.5,-0 141.5,-0 141.5,-0 227.5,-0 227.5,-0 233.5,-0 239.5,-6 239.5,-12 239.5,-12 239.5,-41 239.5,-41 239.5,-47 233.5,-53 227.5,-53\"/>\r\n",
       "<text text-anchor=\"middle\" x=\"184.5\" y=\"-37.8\" font-family=\"Helvetica,sans-Serif\" font-size=\"14.00\">mse = 1.676</text>\r\n",
       "<text text-anchor=\"middle\" x=\"184.5\" y=\"-22.8\" font-family=\"Helvetica,sans-Serif\" font-size=\"14.00\">samples = 71</text>\r\n",
       "<text text-anchor=\"middle\" x=\"184.5\" y=\"-7.8\" font-family=\"Helvetica,sans-Serif\" font-size=\"14.00\">value = 25.684</text>\r\n",
       "</g>\r\n",
       "<!-- 2&#45;&gt;4 -->\r\n",
       "<g id=\"edge4\" class=\"edge\"><title>2&#45;&gt;4</title>\r\n",
       "<path fill=\"none\" stroke=\"black\" d=\"M184.5,-88.9485C184.5,-80.7153 184.5,-71.848 184.5,-63.4814\"/>\r\n",
       "<polygon fill=\"black\" stroke=\"black\" points=\"188,-63.2367 184.5,-53.2367 181,-63.2367 188,-63.2367\"/>\r\n",
       "</g>\r\n",
       "<!-- 6 -->\r\n",
       "<g id=\"node7\" class=\"node\"><title>6</title>\r\n",
       "<path fill=\"#e58139\" fill-opacity=\"0.690196\" stroke=\"black\" d=\"M355.5,-53C355.5,-53 269.5,-53 269.5,-53 263.5,-53 257.5,-47 257.5,-41 257.5,-41 257.5,-12 257.5,-12 257.5,-6 263.5,-0 269.5,-0 269.5,-0 355.5,-0 355.5,-0 361.5,-0 367.5,-6 367.5,-12 367.5,-12 367.5,-41 367.5,-41 367.5,-47 361.5,-53 355.5,-53\"/>\r\n",
       "<text text-anchor=\"middle\" x=\"312.5\" y=\"-37.8\" font-family=\"Helvetica,sans-Serif\" font-size=\"14.00\">mse = 1.776</text>\r\n",
       "<text text-anchor=\"middle\" x=\"312.5\" y=\"-22.8\" font-family=\"Helvetica,sans-Serif\" font-size=\"14.00\">samples = 95</text>\r\n",
       "<text text-anchor=\"middle\" x=\"312.5\" y=\"-7.8\" font-family=\"Helvetica,sans-Serif\" font-size=\"14.00\">value = 22.742</text>\r\n",
       "</g>\r\n",
       "<!-- 5&#45;&gt;6 -->\r\n",
       "<g id=\"edge6\" class=\"edge\"><title>5&#45;&gt;6</title>\r\n",
       "<path fill=\"none\" stroke=\"black\" d=\"M374.924,-88.9485C365.538,-79.709 355.34,-69.671 345.961,-60.4381\"/>\r\n",
       "<polygon fill=\"black\" stroke=\"black\" points=\"348.227,-57.7576 338.645,-53.2367 343.316,-62.7462 348.227,-57.7576\"/>\r\n",
       "</g>\r\n",
       "<!-- 7 -->\r\n",
       "<g id=\"node8\" class=\"node\"><title>7</title>\r\n",
       "<path fill=\"#e58139\" fill-opacity=\"0.545098\" stroke=\"black\" d=\"M483.5,-53C483.5,-53 397.5,-53 397.5,-53 391.5,-53 385.5,-47 385.5,-41 385.5,-41 385.5,-12 385.5,-12 385.5,-6 391.5,-0 397.5,-0 397.5,-0 483.5,-0 483.5,-0 489.5,-0 495.5,-6 495.5,-12 495.5,-12 495.5,-41 495.5,-41 495.5,-47 489.5,-53 483.5,-53\"/>\r\n",
       "<text text-anchor=\"middle\" x=\"440.5\" y=\"-37.8\" font-family=\"Helvetica,sans-Serif\" font-size=\"14.00\">mse = 1.655</text>\r\n",
       "<text text-anchor=\"middle\" x=\"440.5\" y=\"-22.8\" font-family=\"Helvetica,sans-Serif\" font-size=\"14.00\">samples = 73</text>\r\n",
       "<text text-anchor=\"middle\" x=\"440.5\" y=\"-7.8\" font-family=\"Helvetica,sans-Serif\" font-size=\"14.00\">value = 19.952</text>\r\n",
       "</g>\r\n",
       "<!-- 5&#45;&gt;7 -->\r\n",
       "<g id=\"edge7\" class=\"edge\"><title>5&#45;&gt;7</title>\r\n",
       "<path fill=\"none\" stroke=\"black\" d=\"M419.692,-88.9485C422.542,-80.5323 425.616,-71.4536 428.504,-62.9243\"/>\r\n",
       "<polygon fill=\"black\" stroke=\"black\" points=\"431.893,-63.831 431.785,-53.2367 425.262,-61.5858 431.893,-63.831\"/>\r\n",
       "</g>\r\n",
       "<!-- 9 -->\r\n",
       "<g id=\"node10\" class=\"node\"><title>9</title>\r\n",
       "<path fill=\"#e58139\" fill-opacity=\"0.341176\" stroke=\"black\" d=\"M644,-157C644,-157 557,-157 557,-157 551,-157 545,-151 545,-145 545,-145 545,-101 545,-101 545,-95 551,-89 557,-89 557,-89 644,-89 644,-89 650,-89 656,-95 656,-101 656,-101 656,-145 656,-145 656,-151 650,-157 644,-157\"/>\r\n",
       "<text text-anchor=\"middle\" x=\"600.5\" y=\"-141.8\" font-family=\"Helvetica,sans-Serif\" font-size=\"14.00\">风速 &lt;= 1.943</text>\r\n",
       "<text text-anchor=\"middle\" x=\"600.5\" y=\"-126.8\" font-family=\"Helvetica,sans-Serif\" font-size=\"14.00\">mse = 3.167</text>\r\n",
       "<text text-anchor=\"middle\" x=\"600.5\" y=\"-111.8\" font-family=\"Helvetica,sans-Serif\" font-size=\"14.00\">samples = 141</text>\r\n",
       "<text text-anchor=\"middle\" x=\"600.5\" y=\"-96.8\" font-family=\"Helvetica,sans-Serif\" font-size=\"14.00\">value = 16.095</text>\r\n",
       "</g>\r\n",
       "<!-- 8&#45;&gt;9 -->\r\n",
       "<g id=\"edge9\" class=\"edge\"><title>8&#45;&gt;9</title>\r\n",
       "<path fill=\"none\" stroke=\"black\" d=\"M600.5,-192.884C600.5,-184.778 600.5,-175.982 600.5,-167.472\"/>\r\n",
       "<polygon fill=\"black\" stroke=\"black\" points=\"604,-167.299 600.5,-157.299 597,-167.299 604,-167.299\"/>\r\n",
       "</g>\r\n",
       "<!-- 12 -->\r\n",
       "<g id=\"node13\" class=\"node\"><title>12</title>\r\n",
       "<path fill=\"#e58139\" fill-opacity=\"0.047059\" stroke=\"black\" d=\"M868,-157C868,-157 781,-157 781,-157 775,-157 769,-151 769,-145 769,-145 769,-101 769,-101 769,-95 775,-89 781,-89 781,-89 868,-89 868,-89 874,-89 880,-95 880,-101 880,-101 880,-145 880,-145 880,-151 874,-157 868,-157\"/>\r\n",
       "<text text-anchor=\"middle\" x=\"824.5\" y=\"-141.8\" font-family=\"Helvetica,sans-Serif\" font-size=\"14.00\">风速 &lt;= 2.371</text>\r\n",
       "<text text-anchor=\"middle\" x=\"824.5\" y=\"-126.8\" font-family=\"Helvetica,sans-Serif\" font-size=\"14.00\">mse = 3.204</text>\r\n",
       "<text text-anchor=\"middle\" x=\"824.5\" y=\"-111.8\" font-family=\"Helvetica,sans-Serif\" font-size=\"14.00\">samples = 205</text>\r\n",
       "<text text-anchor=\"middle\" x=\"824.5\" y=\"-96.8\" font-family=\"Helvetica,sans-Serif\" font-size=\"14.00\">value = 10.4</text>\r\n",
       "</g>\r\n",
       "<!-- 8&#45;&gt;12 -->\r\n",
       "<g id=\"edge12\" class=\"edge\"><title>8&#45;&gt;12</title>\r\n",
       "<path fill=\"none\" stroke=\"black\" d=\"M656.159,-200.655C687.41,-186.425 726.575,-168.591 759.263,-153.706\"/>\r\n",
       "<polygon fill=\"black\" stroke=\"black\" points=\"761.089,-156.72 768.74,-149.391 758.188,-150.35 761.089,-156.72\"/>\r\n",
       "</g>\r\n",
       "<!-- 10 -->\r\n",
       "<g id=\"node11\" class=\"node\"><title>10</title>\r\n",
       "<path fill=\"#e58139\" fill-opacity=\"0.392157\" stroke=\"black\" d=\"M611.5,-53C611.5,-53 525.5,-53 525.5,-53 519.5,-53 513.5,-47 513.5,-41 513.5,-41 513.5,-12 513.5,-12 513.5,-6 519.5,-0 525.5,-0 525.5,-0 611.5,-0 611.5,-0 617.5,-0 623.5,-6 623.5,-12 623.5,-12 623.5,-41 623.5,-41 623.5,-47 617.5,-53 611.5,-53\"/>\r\n",
       "<text text-anchor=\"middle\" x=\"568.5\" y=\"-37.8\" font-family=\"Helvetica,sans-Serif\" font-size=\"14.00\">mse = 1.351</text>\r\n",
       "<text text-anchor=\"middle\" x=\"568.5\" y=\"-22.8\" font-family=\"Helvetica,sans-Serif\" font-size=\"14.00\">samples = 93</text>\r\n",
       "<text text-anchor=\"middle\" x=\"568.5\" y=\"-7.8\" font-family=\"Helvetica,sans-Serif\" font-size=\"14.00\">value = 17.048</text>\r\n",
       "</g>\r\n",
       "<!-- 9&#45;&gt;10 -->\r\n",
       "<g id=\"edge10\" class=\"edge\"><title>9&#45;&gt;10</title>\r\n",
       "<path fill=\"none\" stroke=\"black\" d=\"M589.308,-88.9485C586.458,-80.5323 583.384,-71.4536 580.496,-62.9243\"/>\r\n",
       "<polygon fill=\"black\" stroke=\"black\" points=\"583.738,-61.5858 577.215,-53.2367 577.107,-63.831 583.738,-61.5858\"/>\r\n",
       "</g>\r\n",
       "<!-- 11 -->\r\n",
       "<g id=\"node12\" class=\"node\"><title>11</title>\r\n",
       "<path fill=\"#e58139\" fill-opacity=\"0.247059\" stroke=\"black\" d=\"M739.5,-53C739.5,-53 653.5,-53 653.5,-53 647.5,-53 641.5,-47 641.5,-41 641.5,-41 641.5,-12 641.5,-12 641.5,-6 647.5,-0 653.5,-0 653.5,-0 739.5,-0 739.5,-0 745.5,-0 751.5,-6 751.5,-12 751.5,-12 751.5,-41 751.5,-41 751.5,-47 745.5,-53 739.5,-53\"/>\r\n",
       "<text text-anchor=\"middle\" x=\"696.5\" y=\"-37.8\" font-family=\"Helvetica,sans-Serif\" font-size=\"14.00\">mse = 1.524</text>\r\n",
       "<text text-anchor=\"middle\" x=\"696.5\" y=\"-22.8\" font-family=\"Helvetica,sans-Serif\" font-size=\"14.00\">samples = 48</text>\r\n",
       "<text text-anchor=\"middle\" x=\"696.5\" y=\"-7.8\" font-family=\"Helvetica,sans-Serif\" font-size=\"14.00\">value = 14.251</text>\r\n",
       "</g>\r\n",
       "<!-- 9&#45;&gt;11 -->\r\n",
       "<g id=\"edge11\" class=\"edge\"><title>9&#45;&gt;11</title>\r\n",
       "<path fill=\"none\" stroke=\"black\" d=\"M634.076,-88.9485C643.462,-79.709 653.66,-69.671 663.039,-60.4381\"/>\r\n",
       "<polygon fill=\"black\" stroke=\"black\" points=\"665.684,-62.7462 670.355,-53.2367 660.773,-57.7576 665.684,-62.7462\"/>\r\n",
       "</g>\r\n",
       "<!-- 13 -->\r\n",
       "<g id=\"node14\" class=\"node\"><title>13</title>\r\n",
       "<path fill=\"#e58139\" fill-opacity=\"0.145098\" stroke=\"black\" d=\"M867.5,-53C867.5,-53 781.5,-53 781.5,-53 775.5,-53 769.5,-47 769.5,-41 769.5,-41 769.5,-12 769.5,-12 769.5,-6 775.5,-0 781.5,-0 781.5,-0 867.5,-0 867.5,-0 873.5,-0 879.5,-6 879.5,-12 879.5,-12 879.5,-41 879.5,-41 879.5,-47 873.5,-53 867.5,-53\"/>\r\n",
       "<text text-anchor=\"middle\" x=\"824.5\" y=\"-37.8\" font-family=\"Helvetica,sans-Serif\" font-size=\"14.00\">mse = 1.89</text>\r\n",
       "<text text-anchor=\"middle\" x=\"824.5\" y=\"-22.8\" font-family=\"Helvetica,sans-Serif\" font-size=\"14.00\">samples = 65</text>\r\n",
       "<text text-anchor=\"middle\" x=\"824.5\" y=\"-7.8\" font-family=\"Helvetica,sans-Serif\" font-size=\"14.00\">value = 12.294</text>\r\n",
       "</g>\r\n",
       "<!-- 12&#45;&gt;13 -->\r\n",
       "<g id=\"edge13\" class=\"edge\"><title>12&#45;&gt;13</title>\r\n",
       "<path fill=\"none\" stroke=\"black\" d=\"M824.5,-88.9485C824.5,-80.7153 824.5,-71.848 824.5,-63.4814\"/>\r\n",
       "<polygon fill=\"black\" stroke=\"black\" points=\"828,-63.2367 824.5,-53.2367 821,-63.2367 828,-63.2367\"/>\r\n",
       "</g>\r\n",
       "<!-- 14 -->\r\n",
       "<g id=\"node15\" class=\"node\"><title>14</title>\r\n",
       "<path fill=\"none\" stroke=\"black\" d=\"M997,-53C997,-53 910,-53 910,-53 904,-53 898,-47 898,-41 898,-41 898,-12 898,-12 898,-6 904,-0 910,-0 910,-0 997,-0 997,-0 1003,-0 1009,-6 1009,-12 1009,-12 1009,-41 1009,-41 1009,-47 1003,-53 997,-53\"/>\r\n",
       "<text text-anchor=\"middle\" x=\"953.5\" y=\"-37.8\" font-family=\"Helvetica,sans-Serif\" font-size=\"14.00\">mse = 1.376</text>\r\n",
       "<text text-anchor=\"middle\" x=\"953.5\" y=\"-22.8\" font-family=\"Helvetica,sans-Serif\" font-size=\"14.00\">samples = 140</text>\r\n",
       "<text text-anchor=\"middle\" x=\"953.5\" y=\"-7.8\" font-family=\"Helvetica,sans-Serif\" font-size=\"14.00\">value = 9.52</text>\r\n",
       "</g>\r\n",
       "<!-- 12&#45;&gt;14 -->\r\n",
       "<g id=\"edge14\" class=\"edge\"><title>12&#45;&gt;14</title>\r\n",
       "<path fill=\"none\" stroke=\"black\" d=\"M869.618,-88.9485C882.73,-79.3431 897.02,-68.8747 910.029,-59.345\"/>\r\n",
       "<polygon fill=\"black\" stroke=\"black\" points=\"912.369,-61.9698 918.367,-53.2367 908.232,-56.3228 912.369,-61.9698\"/>\r\n",
       "</g>\r\n",
       "</g>\r\n",
       "</svg>\r\n"
      ],
      "text/plain": [
       "<graphviz.files.Source at 0x25c27050be0>"
      ]
     },
     "execution_count": 7,
     "metadata": {},
     "output_type": "execute_result"
    }
   ],
   "source": [
    "clf1 = DecisionTreeRegressor(random_state=25, max_depth=3, criterion=\"mse\")\n",
    "clf2 = DecisionTreeRegressor(random_state=25, max_depth=5, criterion=\"mse\")\n",
    "clf1 = clf1.fit(Xtrain, Ytrain)\n",
    "clf2 = clf2.fit(Xtrain, Ytrain)\n",
    "score_ = clf1.score(Xtest, Ytest)\n",
    "#score_2 = clf2.score(Xtest, Ytest)\n",
    "feature_name = ['V','T','HRR']\n",
    "\n",
    "import graphviz\n",
    "dot_data = tree.export_graphviz(clf1, out_file = None\n",
    "                                ,feature_names = feature_name\n",
    "                                #,class_names=[\"bf\",\"non-bf\"]\n",
    "                                ,filled=True\n",
    "                                ,rounded=True\n",
    "                               ) \n",
    "graph = graphviz.Source(dot_data)\n",
    "graph"
   ]
  },
  {
   "cell_type": "code",
   "execution_count": 8,
   "metadata": {},
   "outputs": [
    {
     "data": {
      "text/plain": [
       "(300, 1)"
      ]
     },
     "execution_count": 8,
     "metadata": {},
     "output_type": "execute_result"
    }
   ],
   "source": [
    "import numpy as np\n",
    "# a = pd.concat([Xtest,Ytest],axis = 1)\n",
    "# a = a.sort_values('V').reset_index(drop = True)\n",
    "# Xtest = a.iloc[:,data.columns != \"BackDistance\"]\n",
    "# Ytest = a.iloc[:,data.columns == \"BackDistance\"]\n",
    "y_1 = clf1.predict(Xtest)\n",
    "y_2 = clf2.predict(Xtest)\n",
    "xx = Xtest.iloc[:,0][:, np.newaxis]\n",
    "xx.shape\n",
    "#X_test"
   ]
  },
  {
   "cell_type": "code",
   "execution_count": 10,
   "metadata": {},
   "outputs": [
    {
     "data": {
      "image/png": "[encoded data removed]",
      "text/plain": [
       "<Figure size 432x288 with 1 Axes>"
      ]
     },
     "metadata": {
      "needs_background": "light"
     },
     "output_type": "display_data"
    }
   ],
   "source": [
    "plt.figure()\n",
    "plt.scatter(xx, Ytest, s=20, edgecolor=\"black\",c=\"darkorange\", label=\"data\")\n",
    "plt.plot(xx, y_1, color=\"cornflowerblue\",label=\"max_depth=3\", linewidth=2)\n",
    "#plt.plot(xx, y_2, color=\"yellowgreen\", label=\"max_depth=5\", linewidth=2)\n",
    "plt.xlabel(\"data\")\n",
    "plt.ylabel(\"target\")\n",
    "plt.title(\"Decision Tree Regression\")\n",
    "plt.legend()\n",
    "plt.show()"
   ]
  },
  {
   "cell_type": "code",
   "execution_count": 30,
   "metadata": {},
   "outputs": [],
   "source": [
    "#help(plt.scatter)"
   ]
  },
  {
   "cell_type": "code",
   "execution_count": 1,
   "metadata": {},
   "outputs": [
    {
     "ename": "NameError",
     "evalue": "name 'clf2' is not defined",
     "output_type": "error",
     "traceback": [
      "\u001b[1;31m---------------------------------------------------------------------------\u001b[0m",
      "\u001b[1;31mNameError\u001b[0m                                 Traceback (most recent call last)",
      "\u001b[1;32m<ipython-input-1-f456d031dedb>\u001b[0m in \u001b[0;36m<module>\u001b[1;34m()\u001b[0m\n\u001b[1;32m----> 1\u001b[1;33m \u001b[0mclf2\u001b[0m\u001b[1;33m.\u001b[0m\u001b[0mfeature_importances_\u001b[0m\u001b[1;33m\u001b[0m\u001b[0m\n\u001b[0m",
      "\u001b[1;31mNameError\u001b[0m: name 'clf2' is not defined"
     ]
    }
   ],
   "source": [
    "clf2.feature_importances_"
   ]
  }
 ],
 "metadata": {
  "kernelspec": {
   "display_name": "Python 3",
   "language": "python",
   "name": "python3"
  },
  "language_info": {
   "codemirror_mode": {
    "name": "ipython",
    "version": 3
   },
   "file_extension": ".py",
   "mimetype": "text/x-python",
   "name": "python",
   "nbconvert_exporter": "python",
   "pygments_lexer": "ipython3",
   "version": "3.7.0"
  }
 },
 "nbformat": 4,
 "nbformat_minor": 2
}
