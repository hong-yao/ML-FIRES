{
 "cells": [
  {
   "cell_type": "markdown",
   "metadata": {},
   "source": [
    "## PLOT FIGURES"
   ]
  },
  {
   "cell_type": "code",
   "execution_count": 2,
   "metadata": {},
   "outputs": [],
   "source": [
    "import matplotlib.pyplot as plt\n",
    "import numpy as np"
   ]
  },
  {
   "cell_type": "code",
   "execution_count": 5,
   "metadata": {},
   "outputs": [],
   "source": [
    "CART_fault = np.loadtxt('CART_fault.txt')\n",
    "CART_right = np.loadtxt('CART_right.txt')\n",
    "RF_fault = np.loadtxt('RF_fault.txt')\n",
    "RF_right=np.loadtxt('RF_right.txt')\n",
    "SVM_fault=np.loadtxt('SVM_fault.txt')\n",
    "SVM_right=np.loadtxt('SVM_right.txt')\n",
    "ANN_fault=np.loadtxt('ANN_fault.txt')\n",
    "ANN_right=np.loadtxt('ANN_right.txt')"
   ]
  },
  {
   "cell_type": "code",
   "execution_count": 92,
   "metadata": {},
   "outputs": [
    {
     "data": {
      "image/png": "[encoded data removed]",
      "text/plain": [
       "<Figure size 720x288 with 1 Axes>"
      ]
     },
     "metadata": {
      "needs_background": "light"
     },
     "output_type": "display_data"
    }
   ],
   "source": [
    "plt.rcParams['figure.figsize']=(10,4)\n",
    "font1={'family' : 'Times New Roman','weight' : 'normal','size'  : 14}\n",
    "# plt.scatter(CART_fault[0],CART_fault[1]+1,marker='X',c='r',cmap=\"rainbow\")#rainbow彩虹色\n",
    "# plt.scatter(CART_right[0],CART_right[1]+1,marker='.',c='g',cmap=\"rainbow\")#rainbow彩虹色\n",
    "plt.scatter(CART_fault[0],np.ones(4),marker='X',c='r',cmap=\"rainbow\",label='Wrong')#rainbow彩虹色\n",
    "plt.scatter(CART_right[0],np.ones(296)+1,marker='.',c='g',cmap=\"rainbow\",label='Right')#rainbow彩虹色\n",
    "plt.scatter(RF_fault[0],np.ones(7)+5,marker='X',c='r',cmap=\"rainbow\")#rainbow彩虹色\n",
    "plt.scatter(RF_right[0],np.ones(293)+6,marker='.',c='g',cmap=\"rainbow\")#rainbow彩虹色\n",
    "plt.scatter(SVM_fault[0],np.ones(7)+10,marker='X',c='r',cmap=\"rainbow\")#rainbow彩虹色\n",
    "plt.scatter(SVM_right[0],np.ones(293)+11,marker='.',c='g',cmap=\"rainbow\")#rainbow彩虹色\n",
    "plt.scatter(ANN_fault[0],np.ones(2)+15,marker='X',c='r',cmap=\"rainbow\")#rainbow彩虹色\n",
    "plt.scatter(ANN_right[0],np.ones(298)+16,marker='.',c='g',cmap=\"rainbow\")#rainbow彩虹色\n",
    "# plt.xticks([])\n",
    "# plt.yticks([])\n",
    "scale_ls = [1.5,6.5,11.5,16.5]\n",
    "index_ls = ['CART','RF','SVM','ANN']\n",
    "plt.yticks(scale_ls, index_ls, rotation=0,fontsize = 16,family = 'Times New Roman')\n",
    "plt.xticks(np.linspace(0,300,11),fontsize = 16,family = 'Times New Roman')\n",
    "plt.xlabel('Number of test data sets',fontsize = 16,family = 'Times New Roman')\n",
    "plt.legend(loc=(4/16, 11.9/17),fontsize=13,prop=font1)\n",
    "plt.savefig('scatter.svg', bbox_inches='tight')\n",
    "#plt.legend(loc=2,frameon=False,fontsize=11,labelspacing=0.8,prop=font1)\n",
    "plt.show()"
   ]
  },
  {
   "cell_type": "code",
   "execution_count": 91,
   "metadata": {},
   "outputs": [
    {
     "data": {
      "text/plain": [
       "<Figure size 720x288 with 0 Axes>"
      ]
     },
     "metadata": {},
     "output_type": "display_data"
    }
   ],
   "source": [
    "plt.savefig('scatter.svg', bbox_inches='tight')"
   ]
  }
 ],
 "metadata": {
  "kernelspec": {
   "display_name": "Python 3",
   "language": "python",
   "name": "python3"
  },
  "language_info": {
   "codemirror_mode": {
    "name": "ipython",
    "version": 3
   },
   "file_extension": ".py",
   "mimetype": "text/x-python",
   "name": "python",
   "nbconvert_exporter": "python",
   "pygments_lexer": "ipython3",
   "version": "3.7.0"
  }
 },
 "nbformat": 4,
 "nbformat_minor": 2
}
